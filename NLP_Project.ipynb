{
  "nbformat": 4,
  "nbformat_minor": 0,
  "metadata": {
    "colab": {
      "provenance": []
    },
    "kernelspec": {
      "name": "python3",
      "display_name": "Python 3"
    },
    "language_info": {
      "name": "python"
    },
    "accelerator": "GPU",
    "gpuClass": "standard"
  },
  "cells": [
    {
      "cell_type": "markdown",
      "source": [
        "BART (Bidirectional Encoder Representations from Transformers) is a state-of-the-art neural network model that is commonly used for natural language processing tasks, such as text summarization. It is a type of encoder-decoder model, which means that it takes in a sequence of words as input and then produces a representation of the input text as output.\n",
        "\n",
        "BART is trained using a technique called masked language modeling, which involves masking (or \"blanking out\") some of the words in the input text and then training the model to predict the masked words based on the surrounding context. This allows BART to learn rich and nuanced representations of the input text that capture the relationship between words and their meaning thus generating better results.\n",
        "\n",
        "BLURR is a library designed for fastai developers who want to train and deploy Hugging Face transformers. We have used BLURR to train BART transformer pre-trained model on CNN News Dataset and use it to generate summaries of custom inputs. The following script also generates BERT Score and ROUGE scores for the model. \n",
        "\n",
        "References: \n",
        "\n",
        "[1] https://huggingface.co/datasets/ccdv/cnn_dailymail - Dataset used for training\n",
        "\n",
        "[2] https://ohmeow.github.io - BLURR library for training BART transformer"
      ],
      "metadata": {
        "id": "pZWHyzJJnUXz"
      }
    },
    {
      "cell_type": "code",
      "source": [
        "!pip install ohmeow-blurr"
      ],
      "metadata": {
        "colab": {
          "base_uri": "https://localhost:8080/"
        },
        "id": "OgyN0MWURVCZ",
        "outputId": "045b823d-5f43-408d-a77c-5326c7e7e3f7"
      },
      "execution_count": null,
      "outputs": [
        {
          "output_type": "stream",
          "name": "stdout",
          "text": [
            "Looking in indexes: https://pypi.org/simple, https://us-python.pkg.dev/colab-wheels/public/simple/\n",
            "Collecting ohmeow-blurr\n",
            "  Downloading ohmeow_blurr-1.0.5-py3-none-any.whl (81 kB)\n",
            "\u001b[K     |████████████████████████████████| 81 kB 8.8 MB/s \n",
            "\u001b[?25hCollecting datasets\n",
            "  Downloading datasets-2.7.1-py3-none-any.whl (451 kB)\n",
            "\u001b[K     |████████████████████████████████| 451 kB 58.0 MB/s \n",
            "\u001b[?25hRequirement already satisfied: torch<2.0.0,>=1.7.0 in /usr/local/lib/python3.8/dist-packages (from ohmeow-blurr) (1.13.0+cu116)\n",
            "Collecting seqeval\n",
            "  Downloading seqeval-1.2.2.tar.gz (43 kB)\n",
            "\u001b[K     |████████████████████████████████| 43 kB 2.8 MB/s \n",
            "\u001b[?25hCollecting xlrd<3.0,>=2.0.1\n",
            "  Downloading xlrd-2.0.1-py2.py3-none-any.whl (96 kB)\n",
            "\u001b[K     |████████████████████████████████| 96 kB 7.3 MB/s \n",
            "\u001b[?25hCollecting rouge-score\n",
            "  Downloading rouge_score-0.1.2.tar.gz (17 kB)\n",
            "Requirement already satisfied: fastcore>=1.4.1 in /usr/local/lib/python3.8/dist-packages (from ohmeow-blurr) (1.5.27)\n",
            "Requirement already satisfied: fastai>=2.5 in /usr/local/lib/python3.8/dist-packages (from ohmeow-blurr) (2.7.10)\n",
            "Collecting sentencepiece\n",
            "  Downloading sentencepiece-0.1.97-cp38-cp38-manylinux_2_17_x86_64.manylinux2014_x86_64.whl (1.3 MB)\n",
            "\u001b[K     |████████████████████████████████| 1.3 MB 62.9 MB/s \n",
            "\u001b[?25hRequirement already satisfied: openpyxl<4.0,>=3.0.7 in /usr/local/lib/python3.8/dist-packages (from ohmeow-blurr) (3.0.10)\n",
            "Collecting transformers>=4.6\n",
            "  Downloading transformers-4.25.1-py3-none-any.whl (5.8 MB)\n",
            "\u001b[K     |████████████████████████████████| 5.8 MB 52.1 MB/s \n",
            "\u001b[?25hRequirement already satisfied: torchvision>=0.8.2 in /usr/local/lib/python3.8/dist-packages (from fastai>=2.5->ohmeow-blurr) (0.14.0+cu116)\n",
            "Requirement already satisfied: scipy in /usr/local/lib/python3.8/dist-packages (from fastai>=2.5->ohmeow-blurr) (1.7.3)\n",
            "Requirement already satisfied: pillow>6.0.0 in /usr/local/lib/python3.8/dist-packages (from fastai>=2.5->ohmeow-blurr) (7.1.2)\n",
            "Requirement already satisfied: spacy<4 in /usr/local/lib/python3.8/dist-packages (from fastai>=2.5->ohmeow-blurr) (3.4.3)\n",
            "Requirement already satisfied: packaging in /usr/local/lib/python3.8/dist-packages (from fastai>=2.5->ohmeow-blurr) (21.3)\n",
            "Requirement already satisfied: matplotlib in /usr/local/lib/python3.8/dist-packages (from fastai>=2.5->ohmeow-blurr) (3.2.2)\n",
            "Requirement already satisfied: pandas in /usr/local/lib/python3.8/dist-packages (from fastai>=2.5->ohmeow-blurr) (1.3.5)\n",
            "Requirement already satisfied: fastprogress>=0.2.4 in /usr/local/lib/python3.8/dist-packages (from fastai>=2.5->ohmeow-blurr) (1.0.3)\n",
            "Requirement already satisfied: fastdownload<2,>=0.0.5 in /usr/local/lib/python3.8/dist-packages (from fastai>=2.5->ohmeow-blurr) (0.0.7)\n",
            "Requirement already satisfied: requests in /usr/local/lib/python3.8/dist-packages (from fastai>=2.5->ohmeow-blurr) (2.23.0)\n",
            "Requirement already satisfied: scikit-learn in /usr/local/lib/python3.8/dist-packages (from fastai>=2.5->ohmeow-blurr) (1.0.2)\n",
            "Requirement already satisfied: pyyaml in /usr/local/lib/python3.8/dist-packages (from fastai>=2.5->ohmeow-blurr) (6.0)\n",
            "Requirement already satisfied: pip in /usr/local/lib/python3.8/dist-packages (from fastai>=2.5->ohmeow-blurr) (21.1.3)\n",
            "Requirement already satisfied: et-xmlfile in /usr/local/lib/python3.8/dist-packages (from openpyxl<4.0,>=3.0.7->ohmeow-blurr) (1.1.0)\n",
            "Requirement already satisfied: setuptools in /usr/local/lib/python3.8/dist-packages (from spacy<4->fastai>=2.5->ohmeow-blurr) (57.4.0)\n",
            "Requirement already satisfied: spacy-loggers<2.0.0,>=1.0.0 in /usr/local/lib/python3.8/dist-packages (from spacy<4->fastai>=2.5->ohmeow-blurr) (1.0.3)\n",
            "Requirement already satisfied: numpy>=1.15.0 in /usr/local/lib/python3.8/dist-packages (from spacy<4->fastai>=2.5->ohmeow-blurr) (1.21.6)\n",
            "Requirement already satisfied: murmurhash<1.1.0,>=0.28.0 in /usr/local/lib/python3.8/dist-packages (from spacy<4->fastai>=2.5->ohmeow-blurr) (1.0.9)\n",
            "Requirement already satisfied: cymem<2.1.0,>=2.0.2 in /usr/local/lib/python3.8/dist-packages (from spacy<4->fastai>=2.5->ohmeow-blurr) (2.0.7)\n",
            "Requirement already satisfied: srsly<3.0.0,>=2.4.3 in /usr/local/lib/python3.8/dist-packages (from spacy<4->fastai>=2.5->ohmeow-blurr) (2.4.5)\n",
            "Requirement already satisfied: typer<0.8.0,>=0.3.0 in /usr/local/lib/python3.8/dist-packages (from spacy<4->fastai>=2.5->ohmeow-blurr) (0.7.0)\n",
            "Requirement already satisfied: wasabi<1.1.0,>=0.9.1 in /usr/local/lib/python3.8/dist-packages (from spacy<4->fastai>=2.5->ohmeow-blurr) (0.10.1)\n",
            "Requirement already satisfied: langcodes<4.0.0,>=3.2.0 in /usr/local/lib/python3.8/dist-packages (from spacy<4->fastai>=2.5->ohmeow-blurr) (3.3.0)\n",
            "Requirement already satisfied: pydantic!=1.8,!=1.8.1,<1.11.0,>=1.7.4 in /usr/local/lib/python3.8/dist-packages (from spacy<4->fastai>=2.5->ohmeow-blurr) (1.10.2)\n",
            "Requirement already satisfied: thinc<8.2.0,>=8.1.0 in /usr/local/lib/python3.8/dist-packages (from spacy<4->fastai>=2.5->ohmeow-blurr) (8.1.5)\n",
            "Requirement already satisfied: preshed<3.1.0,>=3.0.2 in /usr/local/lib/python3.8/dist-packages (from spacy<4->fastai>=2.5->ohmeow-blurr) (3.0.8)\n",
            "Requirement already satisfied: spacy-legacy<3.1.0,>=3.0.10 in /usr/local/lib/python3.8/dist-packages (from spacy<4->fastai>=2.5->ohmeow-blurr) (3.0.10)\n",
            "Requirement already satisfied: jinja2 in /usr/local/lib/python3.8/dist-packages (from spacy<4->fastai>=2.5->ohmeow-blurr) (2.11.3)\n",
            "Requirement already satisfied: pathy>=0.3.5 in /usr/local/lib/python3.8/dist-packages (from spacy<4->fastai>=2.5->ohmeow-blurr) (0.10.0)\n",
            "Requirement already satisfied: tqdm<5.0.0,>=4.38.0 in /usr/local/lib/python3.8/dist-packages (from spacy<4->fastai>=2.5->ohmeow-blurr) (4.64.1)\n",
            "Requirement already satisfied: catalogue<2.1.0,>=2.0.6 in /usr/local/lib/python3.8/dist-packages (from spacy<4->fastai>=2.5->ohmeow-blurr) (2.0.8)\n",
            "Requirement already satisfied: pyparsing!=3.0.5,>=2.0.2 in /usr/local/lib/python3.8/dist-packages (from packaging->fastai>=2.5->ohmeow-blurr) (3.0.9)\n",
            "Requirement already satisfied: smart-open<6.0.0,>=5.2.1 in /usr/local/lib/python3.8/dist-packages (from pathy>=0.3.5->spacy<4->fastai>=2.5->ohmeow-blurr) (5.2.1)\n",
            "Requirement already satisfied: typing-extensions>=4.1.0 in /usr/local/lib/python3.8/dist-packages (from pydantic!=1.8,!=1.8.1,<1.11.0,>=1.7.4->spacy<4->fastai>=2.5->ohmeow-blurr) (4.4.0)\n",
            "Requirement already satisfied: chardet<4,>=3.0.2 in /usr/local/lib/python3.8/dist-packages (from requests->fastai>=2.5->ohmeow-blurr) (3.0.4)\n",
            "Requirement already satisfied: certifi>=2017.4.17 in /usr/local/lib/python3.8/dist-packages (from requests->fastai>=2.5->ohmeow-blurr) (2022.9.24)\n",
            "Requirement already satisfied: urllib3!=1.25.0,!=1.25.1,<1.26,>=1.21.1 in /usr/local/lib/python3.8/dist-packages (from requests->fastai>=2.5->ohmeow-blurr) (1.24.3)\n",
            "Requirement already satisfied: idna<3,>=2.5 in /usr/local/lib/python3.8/dist-packages (from requests->fastai>=2.5->ohmeow-blurr) (2.10)\n",
            "Requirement already satisfied: confection<1.0.0,>=0.0.1 in /usr/local/lib/python3.8/dist-packages (from thinc<8.2.0,>=8.1.0->spacy<4->fastai>=2.5->ohmeow-blurr) (0.0.3)\n",
            "Requirement already satisfied: blis<0.8.0,>=0.7.8 in /usr/local/lib/python3.8/dist-packages (from thinc<8.2.0,>=8.1.0->spacy<4->fastai>=2.5->ohmeow-blurr) (0.7.9)\n",
            "Collecting tokenizers!=0.11.3,<0.14,>=0.11.1\n",
            "  Downloading tokenizers-0.13.2-cp38-cp38-manylinux_2_17_x86_64.manylinux2014_x86_64.whl (7.6 MB)\n",
            "\u001b[K     |████████████████████████████████| 7.6 MB 53.6 MB/s \n",
            "\u001b[?25hRequirement already satisfied: regex!=2019.12.17 in /usr/local/lib/python3.8/dist-packages (from transformers>=4.6->ohmeow-blurr) (2022.6.2)\n",
            "Collecting huggingface-hub<1.0,>=0.10.0\n",
            "  Downloading huggingface_hub-0.11.1-py3-none-any.whl (182 kB)\n",
            "\u001b[K     |████████████████████████████████| 182 kB 78.9 MB/s \n",
            "\u001b[?25hRequirement already satisfied: filelock in /usr/local/lib/python3.8/dist-packages (from transformers>=4.6->ohmeow-blurr) (3.8.0)\n",
            "Requirement already satisfied: click<9.0.0,>=7.1.1 in /usr/local/lib/python3.8/dist-packages (from typer<0.8.0,>=0.3.0->spacy<4->fastai>=2.5->ohmeow-blurr) (7.1.2)\n",
            "Collecting multiprocess\n",
            "  Downloading multiprocess-0.70.14-py38-none-any.whl (132 kB)\n",
            "\u001b[K     |████████████████████████████████| 132 kB 81.8 MB/s \n",
            "\u001b[?25hRequirement already satisfied: pyarrow>=6.0.0 in /usr/local/lib/python3.8/dist-packages (from datasets->ohmeow-blurr) (9.0.0)\n",
            "Requirement already satisfied: dill<0.3.7 in /usr/local/lib/python3.8/dist-packages (from datasets->ohmeow-blurr) (0.3.6)\n",
            "Requirement already satisfied: fsspec[http]>=2021.11.1 in /usr/local/lib/python3.8/dist-packages (from datasets->ohmeow-blurr) (2022.11.0)\n",
            "Collecting responses<0.19\n",
            "  Downloading responses-0.18.0-py3-none-any.whl (38 kB)\n",
            "Collecting xxhash\n",
            "  Downloading xxhash-3.1.0-cp38-cp38-manylinux_2_17_x86_64.manylinux2014_x86_64.whl (212 kB)\n",
            "\u001b[K     |████████████████████████████████| 212 kB 79.3 MB/s \n",
            "\u001b[?25hRequirement already satisfied: aiohttp in /usr/local/lib/python3.8/dist-packages (from datasets->ohmeow-blurr) (3.8.3)\n",
            "Requirement already satisfied: async-timeout<5.0,>=4.0.0a3 in /usr/local/lib/python3.8/dist-packages (from aiohttp->datasets->ohmeow-blurr) (4.0.2)\n",
            "Requirement already satisfied: charset-normalizer<3.0,>=2.0 in /usr/local/lib/python3.8/dist-packages (from aiohttp->datasets->ohmeow-blurr) (2.1.1)\n",
            "Requirement already satisfied: yarl<2.0,>=1.0 in /usr/local/lib/python3.8/dist-packages (from aiohttp->datasets->ohmeow-blurr) (1.8.2)\n",
            "Requirement already satisfied: multidict<7.0,>=4.5 in /usr/local/lib/python3.8/dist-packages (from aiohttp->datasets->ohmeow-blurr) (6.0.3)\n",
            "Requirement already satisfied: attrs>=17.3.0 in /usr/local/lib/python3.8/dist-packages (from aiohttp->datasets->ohmeow-blurr) (22.1.0)\n",
            "Requirement already satisfied: frozenlist>=1.1.1 in /usr/local/lib/python3.8/dist-packages (from aiohttp->datasets->ohmeow-blurr) (1.3.3)\n",
            "Requirement already satisfied: aiosignal>=1.1.2 in /usr/local/lib/python3.8/dist-packages (from aiohttp->datasets->ohmeow-blurr) (1.3.1)\n",
            "Collecting urllib3!=1.25.0,!=1.25.1,<1.26,>=1.21.1\n",
            "  Downloading urllib3-1.25.11-py2.py3-none-any.whl (127 kB)\n",
            "\u001b[K     |████████████████████████████████| 127 kB 76.3 MB/s \n",
            "\u001b[?25hRequirement already satisfied: MarkupSafe>=0.23 in /usr/local/lib/python3.8/dist-packages (from jinja2->spacy<4->fastai>=2.5->ohmeow-blurr) (2.0.1)\n",
            "Requirement already satisfied: cycler>=0.10 in /usr/local/lib/python3.8/dist-packages (from matplotlib->fastai>=2.5->ohmeow-blurr) (0.11.0)\n",
            "Requirement already satisfied: python-dateutil>=2.1 in /usr/local/lib/python3.8/dist-packages (from matplotlib->fastai>=2.5->ohmeow-blurr) (2.8.2)\n",
            "Requirement already satisfied: kiwisolver>=1.0.1 in /usr/local/lib/python3.8/dist-packages (from matplotlib->fastai>=2.5->ohmeow-blurr) (1.4.4)\n",
            "Requirement already satisfied: six>=1.5 in /usr/local/lib/python3.8/dist-packages (from python-dateutil>=2.1->matplotlib->fastai>=2.5->ohmeow-blurr) (1.15.0)\n",
            "Requirement already satisfied: pytz>=2017.3 in /usr/local/lib/python3.8/dist-packages (from pandas->fastai>=2.5->ohmeow-blurr) (2022.6)\n",
            "Requirement already satisfied: absl-py in /usr/local/lib/python3.8/dist-packages (from rouge-score->ohmeow-blurr) (1.3.0)\n",
            "Requirement already satisfied: nltk in /usr/local/lib/python3.8/dist-packages (from rouge-score->ohmeow-blurr) (3.7)\n",
            "Requirement already satisfied: joblib in /usr/local/lib/python3.8/dist-packages (from nltk->rouge-score->ohmeow-blurr) (1.2.0)\n",
            "Requirement already satisfied: threadpoolctl>=2.0.0 in /usr/local/lib/python3.8/dist-packages (from scikit-learn->fastai>=2.5->ohmeow-blurr) (3.1.0)\n",
            "Building wheels for collected packages: rouge-score, seqeval\n",
            "  Building wheel for rouge-score (setup.py) ... \u001b[?25l\u001b[?25hdone\n",
            "  Created wheel for rouge-score: filename=rouge_score-0.1.2-py3-none-any.whl size=24955 sha256=5cf4e1c29531a39c6e4407f5a6c4ce9c772be11161c0afe02a2cf9412d3297f4\n",
            "  Stored in directory: /root/.cache/pip/wheels/24/55/6f/ebfc4cb176d1c9665da4e306e1705496206d08215c1acd9dde\n",
            "  Building wheel for seqeval (setup.py) ... \u001b[?25l\u001b[?25hdone\n",
            "  Created wheel for seqeval: filename=seqeval-1.2.2-py3-none-any.whl size=16179 sha256=d95740fc93b81e1d4975d9f011c48d76c4a61cea43d87826fe4ce3379dbb41f1\n",
            "  Stored in directory: /root/.cache/pip/wheels/ad/5c/ba/05fa33fa5855777b7d686e843ec07452f22a66a138e290e732\n",
            "Successfully built rouge-score seqeval\n",
            "Installing collected packages: urllib3, xxhash, tokenizers, responses, multiprocess, huggingface-hub, xlrd, transformers, seqeval, sentencepiece, rouge-score, datasets, ohmeow-blurr\n",
            "  Attempting uninstall: urllib3\n",
            "    Found existing installation: urllib3 1.24.3\n",
            "    Uninstalling urllib3-1.24.3:\n",
            "      Successfully uninstalled urllib3-1.24.3\n",
            "  Attempting uninstall: xlrd\n",
            "    Found existing installation: xlrd 1.2.0\n",
            "    Uninstalling xlrd-1.2.0:\n",
            "      Successfully uninstalled xlrd-1.2.0\n",
            "Successfully installed datasets-2.7.1 huggingface-hub-0.11.1 multiprocess-0.70.14 ohmeow-blurr-1.0.5 responses-0.18.0 rouge-score-0.1.2 sentencepiece-0.1.97 seqeval-1.2.2 tokenizers-0.13.2 transformers-4.25.1 urllib3-1.25.11 xlrd-2.0.1 xxhash-3.1.0\n"
          ]
        }
      ]
    },
    {
      "cell_type": "code",
      "source": [
        "!pip install datasets"
      ],
      "metadata": {
        "colab": {
          "base_uri": "https://localhost:8080/"
        },
        "id": "yQKle3WsUsEh",
        "outputId": "d3c53522-3729-47ea-f037-c30166c8c1a7"
      },
      "execution_count": null,
      "outputs": [
        {
          "output_type": "stream",
          "name": "stdout",
          "text": [
            "Looking in indexes: https://pypi.org/simple, https://us-python.pkg.dev/colab-wheels/public/simple/\n",
            "Requirement already satisfied: datasets in /usr/local/lib/python3.8/dist-packages (2.7.1)\n",
            "Requirement already satisfied: aiohttp in /usr/local/lib/python3.8/dist-packages (from datasets) (3.8.3)\n",
            "Requirement already satisfied: fsspec[http]>=2021.11.1 in /usr/local/lib/python3.8/dist-packages (from datasets) (2022.11.0)\n",
            "Requirement already satisfied: requests>=2.19.0 in /usr/local/lib/python3.8/dist-packages (from datasets) (2.23.0)\n",
            "Requirement already satisfied: multiprocess in /usr/local/lib/python3.8/dist-packages (from datasets) (0.70.14)\n",
            "Requirement already satisfied: numpy>=1.17 in /usr/local/lib/python3.8/dist-packages (from datasets) (1.21.6)\n",
            "Requirement already satisfied: huggingface-hub<1.0.0,>=0.2.0 in /usr/local/lib/python3.8/dist-packages (from datasets) (0.11.1)\n",
            "Requirement already satisfied: tqdm>=4.62.1 in /usr/local/lib/python3.8/dist-packages (from datasets) (4.64.1)\n",
            "Requirement already satisfied: responses<0.19 in /usr/local/lib/python3.8/dist-packages (from datasets) (0.18.0)\n",
            "Requirement already satisfied: dill<0.3.7 in /usr/local/lib/python3.8/dist-packages (from datasets) (0.3.6)\n",
            "Requirement already satisfied: pandas in /usr/local/lib/python3.8/dist-packages (from datasets) (1.3.5)\n",
            "Requirement already satisfied: packaging in /usr/local/lib/python3.8/dist-packages (from datasets) (21.3)\n",
            "Requirement already satisfied: pyyaml>=5.1 in /usr/local/lib/python3.8/dist-packages (from datasets) (6.0)\n",
            "Requirement already satisfied: xxhash in /usr/local/lib/python3.8/dist-packages (from datasets) (3.1.0)\n",
            "Requirement already satisfied: pyarrow>=6.0.0 in /usr/local/lib/python3.8/dist-packages (from datasets) (9.0.0)\n",
            "Requirement already satisfied: multidict<7.0,>=4.5 in /usr/local/lib/python3.8/dist-packages (from aiohttp->datasets) (6.0.3)\n",
            "Requirement already satisfied: attrs>=17.3.0 in /usr/local/lib/python3.8/dist-packages (from aiohttp->datasets) (22.1.0)\n",
            "Requirement already satisfied: charset-normalizer<3.0,>=2.0 in /usr/local/lib/python3.8/dist-packages (from aiohttp->datasets) (2.1.1)\n",
            "Requirement already satisfied: aiosignal>=1.1.2 in /usr/local/lib/python3.8/dist-packages (from aiohttp->datasets) (1.3.1)\n",
            "Requirement already satisfied: yarl<2.0,>=1.0 in /usr/local/lib/python3.8/dist-packages (from aiohttp->datasets) (1.8.2)\n",
            "Requirement already satisfied: frozenlist>=1.1.1 in /usr/local/lib/python3.8/dist-packages (from aiohttp->datasets) (1.3.3)\n",
            "Requirement already satisfied: async-timeout<5.0,>=4.0.0a3 in /usr/local/lib/python3.8/dist-packages (from aiohttp->datasets) (4.0.2)\n",
            "Requirement already satisfied: filelock in /usr/local/lib/python3.8/dist-packages (from huggingface-hub<1.0.0,>=0.2.0->datasets) (3.8.0)\n",
            "Requirement already satisfied: typing-extensions>=3.7.4.3 in /usr/local/lib/python3.8/dist-packages (from huggingface-hub<1.0.0,>=0.2.0->datasets) (4.4.0)\n",
            "Requirement already satisfied: pyparsing!=3.0.5,>=2.0.2 in /usr/local/lib/python3.8/dist-packages (from packaging->datasets) (3.0.9)\n",
            "Requirement already satisfied: certifi>=2017.4.17 in /usr/local/lib/python3.8/dist-packages (from requests>=2.19.0->datasets) (2022.9.24)\n",
            "Requirement already satisfied: chardet<4,>=3.0.2 in /usr/local/lib/python3.8/dist-packages (from requests>=2.19.0->datasets) (3.0.4)\n",
            "Requirement already satisfied: urllib3!=1.25.0,!=1.25.1,<1.26,>=1.21.1 in /usr/local/lib/python3.8/dist-packages (from requests>=2.19.0->datasets) (1.25.11)\n",
            "Requirement already satisfied: idna<3,>=2.5 in /usr/local/lib/python3.8/dist-packages (from requests>=2.19.0->datasets) (2.10)\n",
            "Requirement already satisfied: pytz>=2017.3 in /usr/local/lib/python3.8/dist-packages (from pandas->datasets) (2022.6)\n",
            "Requirement already satisfied: python-dateutil>=2.7.3 in /usr/local/lib/python3.8/dist-packages (from pandas->datasets) (2.8.2)\n",
            "Requirement already satisfied: six>=1.5 in /usr/local/lib/python3.8/dist-packages (from python-dateutil>=2.7.3->pandas->datasets) (1.15.0)\n"
          ]
        }
      ]
    },
    {
      "cell_type": "code",
      "source": [
        "!pip install bert_score"
      ],
      "metadata": {
        "colab": {
          "base_uri": "https://localhost:8080/"
        },
        "id": "WvhMv5KrYB_K",
        "outputId": "4e973dba-70f0-49ab-9072-58aaba12eeb9"
      },
      "execution_count": null,
      "outputs": [
        {
          "output_type": "stream",
          "name": "stdout",
          "text": [
            "Looking in indexes: https://pypi.org/simple, https://us-python.pkg.dev/colab-wheels/public/simple/\n",
            "Collecting bert_score\n",
            "  Downloading bert_score-0.3.12-py3-none-any.whl (60 kB)\n",
            "\u001b[K     |████████████████████████████████| 60 kB 7.8 MB/s \n",
            "\u001b[?25hRequirement already satisfied: tqdm>=4.31.1 in /usr/local/lib/python3.8/dist-packages (from bert_score) (4.64.1)\n",
            "Requirement already satisfied: pandas>=1.0.1 in /usr/local/lib/python3.8/dist-packages (from bert_score) (1.3.5)\n",
            "Requirement already satisfied: transformers>=3.0.0 in /usr/local/lib/python3.8/dist-packages (from bert_score) (4.25.1)\n",
            "Requirement already satisfied: torch>=1.0.0 in /usr/local/lib/python3.8/dist-packages (from bert_score) (1.13.0+cu116)\n",
            "Requirement already satisfied: matplotlib in /usr/local/lib/python3.8/dist-packages (from bert_score) (3.2.2)\n",
            "Requirement already satisfied: packaging>=20.9 in /usr/local/lib/python3.8/dist-packages (from bert_score) (21.3)\n",
            "Requirement already satisfied: numpy in /usr/local/lib/python3.8/dist-packages (from bert_score) (1.21.6)\n",
            "Requirement already satisfied: requests in /usr/local/lib/python3.8/dist-packages (from bert_score) (2.23.0)\n",
            "Requirement already satisfied: pyparsing!=3.0.5,>=2.0.2 in /usr/local/lib/python3.8/dist-packages (from packaging>=20.9->bert_score) (3.0.9)\n",
            "Requirement already satisfied: pytz>=2017.3 in /usr/local/lib/python3.8/dist-packages (from pandas>=1.0.1->bert_score) (2022.6)\n",
            "Requirement already satisfied: python-dateutil>=2.7.3 in /usr/local/lib/python3.8/dist-packages (from pandas>=1.0.1->bert_score) (2.8.2)\n",
            "Requirement already satisfied: six>=1.5 in /usr/local/lib/python3.8/dist-packages (from python-dateutil>=2.7.3->pandas>=1.0.1->bert_score) (1.15.0)\n",
            "Requirement already satisfied: typing-extensions in /usr/local/lib/python3.8/dist-packages (from torch>=1.0.0->bert_score) (4.4.0)\n",
            "Requirement already satisfied: regex!=2019.12.17 in /usr/local/lib/python3.8/dist-packages (from transformers>=3.0.0->bert_score) (2022.6.2)\n",
            "Requirement already satisfied: huggingface-hub<1.0,>=0.10.0 in /usr/local/lib/python3.8/dist-packages (from transformers>=3.0.0->bert_score) (0.11.1)\n",
            "Requirement already satisfied: tokenizers!=0.11.3,<0.14,>=0.11.1 in /usr/local/lib/python3.8/dist-packages (from transformers>=3.0.0->bert_score) (0.13.2)\n",
            "Requirement already satisfied: pyyaml>=5.1 in /usr/local/lib/python3.8/dist-packages (from transformers>=3.0.0->bert_score) (6.0)\n",
            "Requirement already satisfied: filelock in /usr/local/lib/python3.8/dist-packages (from transformers>=3.0.0->bert_score) (3.8.0)\n",
            "Requirement already satisfied: kiwisolver>=1.0.1 in /usr/local/lib/python3.8/dist-packages (from matplotlib->bert_score) (1.4.4)\n",
            "Requirement already satisfied: cycler>=0.10 in /usr/local/lib/python3.8/dist-packages (from matplotlib->bert_score) (0.11.0)\n",
            "Requirement already satisfied: idna<3,>=2.5 in /usr/local/lib/python3.8/dist-packages (from requests->bert_score) (2.10)\n",
            "Requirement already satisfied: certifi>=2017.4.17 in /usr/local/lib/python3.8/dist-packages (from requests->bert_score) (2022.9.24)\n",
            "Requirement already satisfied: chardet<4,>=3.0.2 in /usr/local/lib/python3.8/dist-packages (from requests->bert_score) (3.0.4)\n",
            "Requirement already satisfied: urllib3!=1.25.0,!=1.25.1,<1.26,>=1.21.1 in /usr/local/lib/python3.8/dist-packages (from requests->bert_score) (1.25.11)\n",
            "Installing collected packages: bert-score\n",
            "Successfully installed bert-score-0.3.12\n"
          ]
        }
      ]
    },
    {
      "cell_type": "code",
      "source": [
        "# Importing the required libraries\n",
        "\n",
        "import os, warnings\n",
        "\n",
        "import torch\n",
        "from transformers import *\n",
        "from transformers.utils import logging as hf_logging\n",
        "from fastai.text.all import *\n",
        "\n",
        "from blurr.text.data.all import *\n",
        "from blurr.text.modeling.all import *\n",
        "from datasets import load_dataset\n"
      ],
      "metadata": {
        "id": "Fh8KgWGbRiUS"
      },
      "execution_count": null,
      "outputs": []
    },
    {
      "cell_type": "code",
      "source": [
        "import nltk\n",
        "nltk.download('punkt')"
      ],
      "metadata": {
        "colab": {
          "base_uri": "https://localhost:8080/"
        },
        "id": "tVvU2nYwbCo1",
        "outputId": "feb6b227-bcaa-415e-fa7b-bae906dc27a7"
      },
      "execution_count": null,
      "outputs": [
        {
          "output_type": "stream",
          "name": "stderr",
          "text": [
            "[nltk_data] Downloading package punkt to /root/nltk_data...\n",
            "[nltk_data]   Unzipping tokenizers/punkt.zip.\n"
          ]
        },
        {
          "output_type": "execute_result",
          "data": {
            "text/plain": [
              "True"
            ]
          },
          "metadata": {},
          "execution_count": 38
        }
      ]
    },
    {
      "cell_type": "code",
      "execution_count": null,
      "metadata": {
        "colab": {
          "base_uri": "https://localhost:8080/",
          "height": 615
        },
        "id": "Yi9YlszvQqqC",
        "outputId": "575ae120-bdbc-499a-9cea-d4547b34d74e"
      },
      "outputs": [
        {
          "output_type": "stream",
          "name": "stderr",
          "text": [
            "WARNING:datasets.builder:Found cached dataset cnn_dailymail (/root/.cache/huggingface/datasets/ccdv___cnn_dailymail/3.0.0/3.0.0/0107f7388b5c6fae455a5661bcd134fc22da53ea75852027040d8d1e997f101f)\n"
          ]
        },
        {
          "output_type": "execute_result",
          "data": {
            "text/plain": [
              "                                                                                                                                                                                                                                                                                                                                                                                                                                                                                                                                                                                                                   article  \\\n",
              "0  It's official: U.S. President Barack Obama wants lawmakers to weigh in on whether to use military force in Syria. Obama sent a letter to the heads of the House and Senate on Saturday night, hours after announcing that he believes military action against Syrian targets is the right step to take over the alleged use of chemical weapons. The proposed legislation from Obama asks Congress to approve the use of military force \"to deter, disrupt, prevent and degrade the potential for future uses of chemical weapons or other weapons of mass destruction.\" It's a step that is set to turn an internat...   \n",
              "1  (CNN) -- Usain Bolt rounded off the world championships Sunday by claiming his third gold in Moscow as he anchored Jamaica to victory in the men's 4x100m relay. The fastest man in the world charged clear of United States rival Justin Gatlin as the Jamaican quartet of Nesta Carter, Kemar Bailey-Cole, Nickel Ashmeade and Bolt won in 37.36 seconds. The U.S finished second in 37.56 seconds with Canada taking the bronze after Britain were disqualified for a faulty handover. The 26-year-old Bolt has now collected eight gold medals at world championships, equaling the record held by American trio...   \n",
              "2  Kansas City, Missouri (CNN) -- The General Services Administration, already under investigation for lavish spending, allowed an employee to telecommute from Hawaii even though he is based at the GSA's Kansas City, Missouri, office, a CNN investigation has found. It cost more than $24,000 for the business development specialist to travel to and from the mainland United States over the past year. He is among several hundred GSA \"virtual\" workers who also travel to various conferences and their home offices, costing the agency millions of dollars over the past three years. Under the program, ...   \n",
              "3  Los Angeles (CNN) -- A medical doctor in Vancouver, British Columbia, said Thursday that California arson suspect Harry Burkhart suffered from severe mental illness in 2010, when she examined him as part of a team of doctors. Dr. Blaga Stancheva, a family physician and specialist in obstetrics, said both Burkhart and his mother, Dorothee, were her patients in Vancouver while both were applying for refugee status in Canada. \"I was asked to diagnose and treat Harry to support a claim explaining why he was unable to show up in a small-claims court case,\" Stancheva told CNN in a phone intervie...   \n",
              "4  (CNN) -- Police arrested another teen Thursday, the sixth suspect jailed in connection with the gang rape of a 15-year-old girl on a northern California high school campus. Jose Carlos Montano, 18, was arrested on charges of felony rape, rape in concert with force, and penetration with a foreign object, said Richmond Police Lt. Mark Gagan. Montano was arrested Thursday evening in San Pablo, California, a small town about two miles from the city of Richmond, where the crime took place. Montano, who was held in lieu of $1.3 million bail, is accused of taking part in what police said was a 2½...   \n",
              "\n",
              "                                                                                                                                                                                                                                                                                                                            highlights  \\\n",
              "0                            Syrian official: Obama climbed to the top of the tree, \"doesn't know how to get down\"\\nObama sends a letter to the heads of the House and Senate .\\nObama to seek congressional approval on military action against Syria .\\nAim is to determine whether CW were used, not by whom, says U.N. spokesman .   \n",
              "1                                                                                                                                              Usain Bolt wins third gold of world championship .\\nAnchors Jamaica to 4x100m relay victory .\\nEighth gold at the championships for Bolt .\\nJamaica double up in women's 4x100m relay .   \n",
              "2                                                                                   The employee in agency's Kansas City office is among hundreds of \"virtual\" workers .\\nThe employee's travel to and from the mainland U.S. last year cost more than $24,000 .\\nThe telecommuting program, like all GSA practices, is under review .   \n",
              "3  NEW: A Canadian doctor says she was part of a team examining Harry Burkhart in 2010 .\\nNEW: Diagnosis: \"autism, severe anxiety, post-traumatic stress disorder and depression\"\\nBurkhart is also suspected in a German arson probe, officials say .\\nProsecutors believe the German national set a string of fires in Los Angeles .   \n",
              "4                                                                                                               Another arrest made in gang rape outside California school .\\nInvestigators say up to 20 people took part or stood and watched the assault .\\nFour suspects appeared in court Thursday; three wore bulletproof vests .   \n",
              "\n",
              "                                         id  \n",
              "0  0001d1afc246a7964130f43ae940af6bc6c57f01  \n",
              "1  0002095e55fcbd3a2f366d9bf92a95433dc305ef  \n",
              "2  00027e965c8264c35cc1bc55556db388da82b07f  \n",
              "3  0002c17436637c4fe1837c935c04de47adb18e9a  \n",
              "4  0003ad6ef0c37534f80b55b4235108024b407f0b  "
            ],
            "text/html": [
              "\n",
              "  <div id=\"df-207ad4ab-46e6-4941-95b0-1b502b24fd60\">\n",
              "    <div class=\"colab-df-container\">\n",
              "      <div>\n",
              "<style scoped>\n",
              "    .dataframe tbody tr th:only-of-type {\n",
              "        vertical-align: middle;\n",
              "    }\n",
              "\n",
              "    .dataframe tbody tr th {\n",
              "        vertical-align: top;\n",
              "    }\n",
              "\n",
              "    .dataframe thead th {\n",
              "        text-align: right;\n",
              "    }\n",
              "</style>\n",
              "<table border=\"1\" class=\"dataframe\">\n",
              "  <thead>\n",
              "    <tr style=\"text-align: right;\">\n",
              "      <th></th>\n",
              "      <th>article</th>\n",
              "      <th>highlights</th>\n",
              "      <th>id</th>\n",
              "    </tr>\n",
              "  </thead>\n",
              "  <tbody>\n",
              "    <tr>\n",
              "      <th>0</th>\n",
              "      <td>It's official: U.S. President Barack Obama wants lawmakers to weigh in on whether to use military force in Syria. Obama sent a letter to the heads of the House and Senate on Saturday night, hours after announcing that he believes military action against Syrian targets is the right step to take over the alleged use of chemical weapons. The proposed legislation from Obama asks Congress to approve the use of military force \"to deter, disrupt, prevent and degrade the potential for future uses of chemical weapons or other weapons of mass destruction.\" It's a step that is set to turn an internat...</td>\n",
              "      <td>Syrian official: Obama climbed to the top of the tree, \"doesn't know how to get down\"\\nObama sends a letter to the heads of the House and Senate .\\nObama to seek congressional approval on military action against Syria .\\nAim is to determine whether CW were used, not by whom, says U.N. spokesman .</td>\n",
              "      <td>0001d1afc246a7964130f43ae940af6bc6c57f01</td>\n",
              "    </tr>\n",
              "    <tr>\n",
              "      <th>1</th>\n",
              "      <td>(CNN) -- Usain Bolt rounded off the world championships Sunday by claiming his third gold in Moscow as he anchored Jamaica to victory in the men's 4x100m relay. The fastest man in the world charged clear of United States rival Justin Gatlin as the Jamaican quartet of Nesta Carter, Kemar Bailey-Cole, Nickel Ashmeade and Bolt won in 37.36 seconds. The U.S finished second in 37.56 seconds with Canada taking the bronze after Britain were disqualified for a faulty handover. The 26-year-old Bolt has now collected eight gold medals at world championships, equaling the record held by American trio...</td>\n",
              "      <td>Usain Bolt wins third gold of world championship .\\nAnchors Jamaica to 4x100m relay victory .\\nEighth gold at the championships for Bolt .\\nJamaica double up in women's 4x100m relay .</td>\n",
              "      <td>0002095e55fcbd3a2f366d9bf92a95433dc305ef</td>\n",
              "    </tr>\n",
              "    <tr>\n",
              "      <th>2</th>\n",
              "      <td>Kansas City, Missouri (CNN) -- The General Services Administration, already under investigation for lavish spending, allowed an employee to telecommute from Hawaii even though he is based at the GSA's Kansas City, Missouri, office, a CNN investigation has found. It cost more than $24,000 for the business development specialist to travel to and from the mainland United States over the past year. He is among several hundred GSA \"virtual\" workers who also travel to various conferences and their home offices, costing the agency millions of dollars over the past three years. Under the program, ...</td>\n",
              "      <td>The employee in agency's Kansas City office is among hundreds of \"virtual\" workers .\\nThe employee's travel to and from the mainland U.S. last year cost more than $24,000 .\\nThe telecommuting program, like all GSA practices, is under review .</td>\n",
              "      <td>00027e965c8264c35cc1bc55556db388da82b07f</td>\n",
              "    </tr>\n",
              "    <tr>\n",
              "      <th>3</th>\n",
              "      <td>Los Angeles (CNN) -- A medical doctor in Vancouver, British Columbia, said Thursday that California arson suspect Harry Burkhart suffered from severe mental illness in 2010, when she examined him as part of a team of doctors. Dr. Blaga Stancheva, a family physician and specialist in obstetrics, said both Burkhart and his mother, Dorothee, were her patients in Vancouver while both were applying for refugee status in Canada. \"I was asked to diagnose and treat Harry to support a claim explaining why he was unable to show up in a small-claims court case,\" Stancheva told CNN in a phone intervie...</td>\n",
              "      <td>NEW: A Canadian doctor says she was part of a team examining Harry Burkhart in 2010 .\\nNEW: Diagnosis: \"autism, severe anxiety, post-traumatic stress disorder and depression\"\\nBurkhart is also suspected in a German arson probe, officials say .\\nProsecutors believe the German national set a string of fires in Los Angeles .</td>\n",
              "      <td>0002c17436637c4fe1837c935c04de47adb18e9a</td>\n",
              "    </tr>\n",
              "    <tr>\n",
              "      <th>4</th>\n",
              "      <td>(CNN) -- Police arrested another teen Thursday, the sixth suspect jailed in connection with the gang rape of a 15-year-old girl on a northern California high school campus. Jose Carlos Montano, 18, was arrested on charges of felony rape, rape in concert with force, and penetration with a foreign object, said Richmond Police Lt. Mark Gagan. Montano was arrested Thursday evening in San Pablo, California, a small town about two miles from the city of Richmond, where the crime took place. Montano, who was held in lieu of $1.3 million bail, is accused of taking part in what police said was a 2½...</td>\n",
              "      <td>Another arrest made in gang rape outside California school .\\nInvestigators say up to 20 people took part or stood and watched the assault .\\nFour suspects appeared in court Thursday; three wore bulletproof vests .</td>\n",
              "      <td>0003ad6ef0c37534f80b55b4235108024b407f0b</td>\n",
              "    </tr>\n",
              "  </tbody>\n",
              "</table>\n",
              "</div>\n",
              "      <button class=\"colab-df-convert\" onclick=\"convertToInteractive('df-207ad4ab-46e6-4941-95b0-1b502b24fd60')\"\n",
              "              title=\"Convert this dataframe to an interactive table.\"\n",
              "              style=\"display:none;\">\n",
              "        \n",
              "  <svg xmlns=\"http://www.w3.org/2000/svg\" height=\"24px\"viewBox=\"0 0 24 24\"\n",
              "       width=\"24px\">\n",
              "    <path d=\"M0 0h24v24H0V0z\" fill=\"none\"/>\n",
              "    <path d=\"M18.56 5.44l.94 2.06.94-2.06 2.06-.94-2.06-.94-.94-2.06-.94 2.06-2.06.94zm-11 1L8.5 8.5l.94-2.06 2.06-.94-2.06-.94L8.5 2.5l-.94 2.06-2.06.94zm10 10l.94 2.06.94-2.06 2.06-.94-2.06-.94-.94-2.06-.94 2.06-2.06.94z\"/><path d=\"M17.41 7.96l-1.37-1.37c-.4-.4-.92-.59-1.43-.59-.52 0-1.04.2-1.43.59L10.3 9.45l-7.72 7.72c-.78.78-.78 2.05 0 2.83L4 21.41c.39.39.9.59 1.41.59.51 0 1.02-.2 1.41-.59l7.78-7.78 2.81-2.81c.8-.78.8-2.07 0-2.86zM5.41 20L4 18.59l7.72-7.72 1.47 1.35L5.41 20z\"/>\n",
              "  </svg>\n",
              "      </button>\n",
              "      \n",
              "  <style>\n",
              "    .colab-df-container {\n",
              "      display:flex;\n",
              "      flex-wrap:wrap;\n",
              "      gap: 12px;\n",
              "    }\n",
              "\n",
              "    .colab-df-convert {\n",
              "      background-color: #E8F0FE;\n",
              "      border: none;\n",
              "      border-radius: 50%;\n",
              "      cursor: pointer;\n",
              "      display: none;\n",
              "      fill: #1967D2;\n",
              "      height: 32px;\n",
              "      padding: 0 0 0 0;\n",
              "      width: 32px;\n",
              "    }\n",
              "\n",
              "    .colab-df-convert:hover {\n",
              "      background-color: #E2EBFA;\n",
              "      box-shadow: 0px 1px 2px rgba(60, 64, 67, 0.3), 0px 1px 3px 1px rgba(60, 64, 67, 0.15);\n",
              "      fill: #174EA6;\n",
              "    }\n",
              "\n",
              "    [theme=dark] .colab-df-convert {\n",
              "      background-color: #3B4455;\n",
              "      fill: #D2E3FC;\n",
              "    }\n",
              "\n",
              "    [theme=dark] .colab-df-convert:hover {\n",
              "      background-color: #434B5C;\n",
              "      box-shadow: 0px 1px 3px 1px rgba(0, 0, 0, 0.15);\n",
              "      filter: drop-shadow(0px 1px 2px rgba(0, 0, 0, 0.3));\n",
              "      fill: #FFFFFF;\n",
              "    }\n",
              "  </style>\n",
              "\n",
              "      <script>\n",
              "        const buttonEl =\n",
              "          document.querySelector('#df-207ad4ab-46e6-4941-95b0-1b502b24fd60 button.colab-df-convert');\n",
              "        buttonEl.style.display =\n",
              "          google.colab.kernel.accessAllowed ? 'block' : 'none';\n",
              "\n",
              "        async function convertToInteractive(key) {\n",
              "          const element = document.querySelector('#df-207ad4ab-46e6-4941-95b0-1b502b24fd60');\n",
              "          const dataTable =\n",
              "            await google.colab.kernel.invokeFunction('convertToInteractive',\n",
              "                                                     [key], {});\n",
              "          if (!dataTable) return;\n",
              "\n",
              "          const docLinkHtml = 'Like what you see? Visit the ' +\n",
              "            '<a target=\"_blank\" href=https://colab.research.google.com/notebooks/data_table.ipynb>data table notebook</a>'\n",
              "            + ' to learn more about interactive tables.';\n",
              "          element.innerHTML = '';\n",
              "          dataTable['output_type'] = 'display_data';\n",
              "          await google.colab.output.renderOutput(dataTable, element);\n",
              "          const docLink = document.createElement('div');\n",
              "          docLink.innerHTML = docLinkHtml;\n",
              "          element.appendChild(docLink);\n",
              "        }\n",
              "      </script>\n",
              "    </div>\n",
              "  </div>\n",
              "  "
            ]
          },
          "metadata": {},
          "execution_count": 88
        }
      ],
      "source": [
        "# Loading the dataset [Link: https://huggingface.co/datasets/ccdv/cnn_dailymail]\n",
        "# Here, we only take 2000 rows as training data because training the model with more number of rows causes the model to take longer time to train.\n",
        "# As a result, due to unavailability of resources, the Google Colab Notebook tends to timeout.\n",
        "\n",
        "dataset = load_dataset(\"ccdv/cnn_dailymail\", \"3.0.0\", split=\"train[:2000]\")\n",
        "df = pd.DataFrame(dataset)\n",
        "df.head()"
      ]
    },
    {
      "cell_type": "code",
      "source": [
        "# Loading the pre-trained BART transformer model and getting its configuration objects and tokenizer.\n",
        "\n",
        "pretrained_model_name = \"sshleifer/distilbart-cnn-6-6\"\n",
        "hf_arch, hf_config, hf_tokenizer, hf_model = get_hf_objects(pretrained_model_name, model_cls=BartForConditionalGeneration)\n",
        "\n",
        "hf_arch, type(hf_config), type(hf_tokenizer), type(hf_model)"
      ],
      "metadata": {
        "colab": {
          "base_uri": "https://localhost:8080/"
        },
        "id": "UozAaVTIWrT3",
        "outputId": "80bf70ab-f0df-49f6-e33d-78367be932ac"
      },
      "execution_count": null,
      "outputs": [
        {
          "output_type": "execute_result",
          "data": {
            "text/plain": [
              "('bart',\n",
              " transformers.models.bart.configuration_bart.BartConfig,\n",
              " transformers.models.bart.tokenization_bart_fast.BartTokenizerFast,\n",
              " transformers.models.bart.modeling_bart.BartForConditionalGeneration)"
            ]
          },
          "metadata": {},
          "execution_count": 74
        }
      ]
    },
    {
      "cell_type": "code",
      "source": [
        "# Preprocessing the data\n",
        "# Here, we have used the preprocessor offered by BLURR for seq2seq models.\n",
        "# It takes in the column names from the data frame along with the pretrained model's tokenizer,\n",
        "# maximum input length and the maximum and minimum length of the target summary. \n",
        "# As seen below, the data frame gets transformed into a preprocessed data frame which is later used for training.\n",
        "\n",
        "preprocessor = SummarizationPreprocessor(\n",
        "    hf_tokenizer,\n",
        "    id_attr=\"id\",\n",
        "    text_attr=\"article\",\n",
        "    target_text_attr=\"highlights\",\n",
        "    max_input_tok_length=128,\n",
        "    max_target_tok_length=30,\n",
        "    min_summary_char_length=10,\n",
        ")\n",
        "df = preprocessor.process_df(df)\n",
        "df.head()"
      ],
      "metadata": {
        "colab": {
          "base_uri": "https://localhost:8080/",
          "height": 1000
        },
        "id": "XlIahbvHgvwQ",
        "outputId": "2b7ddcd9-1047-4ebf-ad4c-6ee91323d38e"
      },
      "execution_count": null,
      "outputs": [
        {
          "output_type": "stream",
          "name": "stderr",
          "text": [
            "/usr/local/lib/python3.8/dist-packages/transformers/tokenization_utils_base.py:3578: UserWarning: `as_target_tokenizer` is deprecated and will be removed in v5 of Transformers. You can tokenize your labels by using the argument `text_target` of the regular `__call__` method (either in the same call as your input texts if you use the same keyword arguments, or in a separate call.\n",
            "  warnings.warn(\n"
          ]
        },
        {
          "output_type": "execute_result",
          "data": {
            "text/plain": [
              "                                                                                                                                       proc_highlights  \\\n",
              "0                                  Syrian official: Obama climbed to the top of the tree, \"doesn't know how to get down\"\\nObama sends a letter to the    \n",
              "1                                       Usain Bolt wins third gold of world championship .\\nAnchors Jamaica to 4x100m relay victory .\\nEighth gold at    \n",
              "2              The employee in agency's Kansas City office is among hundreds of \"virtual\" workers .\\nThe employee's travel to and from the mainland U.   \n",
              "3                                         NEW: A Canadian doctor says she was part of a team examining Harry Burkhart in 2010 .\\nNEW: Diagnosis: \"auti   \n",
              "4  Another arrest made in gang rape outside California school .\\nInvestigators say up to 20 people took part or stood and watched the assault .\\nFour    \n",
              "\n",
              "                                                                                                                                                                                                                                                                                                                                                                                                                                                                                                                                                                                                              proc_article  \\\n",
              "0  It's official: U.S. President Barack Obama wants lawmakers to weigh in on whether to use military force in Syria. Obama sent a letter to the heads of the House and Senate on Saturday night, hours after announcing that he believes military action against Syrian targets is the right step to take over the alleged use of chemical weapons. The proposed legislation from Obama asks Congress to approve the use of military force \"to deter, disrupt, prevent and degrade the potential for future uses of chemical weapons or other weapons of mass destruction.\" It's a step that is set to turn an internat...   \n",
              "1                                     (CNN) -- Usain Bolt rounded off the world championships Sunday by claiming his third gold in Moscow as he anchored Jamaica to victory in the men's 4x100m relay. The fastest man in the world charged clear of United States rival Justin Gatlin as the Jamaican quartet of Nesta Carter, Kemar Bailey-Cole, Nickel Ashmeade and Bolt won in 37.36 seconds. The U.S finished second in 37.56 seconds with Canada taking the bronze after Britain were disqualified for a faulty handover. The 26-year-old Bolt has now collected eight gold medals at world championships, equaling    \n",
              "2  Kansas City, Missouri (CNN) -- The General Services Administration, already under investigation for lavish spending, allowed an employee to telecommute from Hawaii even though he is based at the GSA's Kansas City, Missouri, office, a CNN investigation has found. It cost more than $24,000 for the business development specialist to travel to and from the mainland United States over the past year. He is among several hundred GSA \"virtual\" workers who also travel to various conferences and their home offices, costing the agency millions of dollars over the past three years. Under the program, ...   \n",
              "3                        Los Angeles (CNN) -- A medical doctor in Vancouver, British Columbia, said Thursday that California arson suspect Harry Burkhart suffered from severe mental illness in 2010, when she examined him as part of a team of doctors. Dr. Blaga Stancheva, a family physician and specialist in obstetrics, said both Burkhart and his mother, Dorothee, were her patients in Vancouver while both were applying for refugee status in Canada. \"I was asked to diagnose and treat Harry to support a claim explaining why he was unable to show up in a small-claims court case,\" Stancheva told CNN    \n",
              "4                         (CNN) -- Police arrested another teen Thursday, the sixth suspect jailed in connection with the gang rape of a 15-year-old girl on a northern California high school campus. Jose Carlos Montano, 18, was arrested on charges of felony rape, rape in concert with force, and penetration with a foreign object, said Richmond Police Lt. Mark Gagan. Montano was arrested Thursday evening in San Pablo, California, a small town about two miles from the city of Richmond, where the crime took place. Montano, who was held in lieu of $1.3 million bail, is accused of taking part in what    \n",
              "\n",
              "                                                                                                                                                                                                                                                                                                                                                                                                                                                                                                                                                                                                                   article  \\\n",
              "0  It's official: U.S. President Barack Obama wants lawmakers to weigh in on whether to use military force in Syria. Obama sent a letter to the heads of the House and Senate on Saturday night, hours after announcing that he believes military action against Syrian targets is the right step to take over the alleged use of chemical weapons. The proposed legislation from Obama asks Congress to approve the use of military force \"to deter, disrupt, prevent and degrade the potential for future uses of chemical weapons or other weapons of mass destruction.\" It's a step that is set to turn an internat...   \n",
              "1  (CNN) -- Usain Bolt rounded off the world championships Sunday by claiming his third gold in Moscow as he anchored Jamaica to victory in the men's 4x100m relay. The fastest man in the world charged clear of United States rival Justin Gatlin as the Jamaican quartet of Nesta Carter, Kemar Bailey-Cole, Nickel Ashmeade and Bolt won in 37.36 seconds. The U.S finished second in 37.56 seconds with Canada taking the bronze after Britain were disqualified for a faulty handover. The 26-year-old Bolt has now collected eight gold medals at world championships, equaling the record held by American trio...   \n",
              "2  Kansas City, Missouri (CNN) -- The General Services Administration, already under investigation for lavish spending, allowed an employee to telecommute from Hawaii even though he is based at the GSA's Kansas City, Missouri, office, a CNN investigation has found. It cost more than $24,000 for the business development specialist to travel to and from the mainland United States over the past year. He is among several hundred GSA \"virtual\" workers who also travel to various conferences and their home offices, costing the agency millions of dollars over the past three years. Under the program, ...   \n",
              "3  Los Angeles (CNN) -- A medical doctor in Vancouver, British Columbia, said Thursday that California arson suspect Harry Burkhart suffered from severe mental illness in 2010, when she examined him as part of a team of doctors. Dr. Blaga Stancheva, a family physician and specialist in obstetrics, said both Burkhart and his mother, Dorothee, were her patients in Vancouver while both were applying for refugee status in Canada. \"I was asked to diagnose and treat Harry to support a claim explaining why he was unable to show up in a small-claims court case,\" Stancheva told CNN in a phone intervie...   \n",
              "4  (CNN) -- Police arrested another teen Thursday, the sixth suspect jailed in connection with the gang rape of a 15-year-old girl on a northern California high school campus. Jose Carlos Montano, 18, was arrested on charges of felony rape, rape in concert with force, and penetration with a foreign object, said Richmond Police Lt. Mark Gagan. Montano was arrested Thursday evening in San Pablo, California, a small town about two miles from the city of Richmond, where the crime took place. Montano, who was held in lieu of $1.3 million bail, is accused of taking part in what police said was a 2½...   \n",
              "\n",
              "                                                                                                                                                                                                                                                                                                                            highlights  \\\n",
              "0                            Syrian official: Obama climbed to the top of the tree, \"doesn't know how to get down\"\\nObama sends a letter to the heads of the House and Senate .\\nObama to seek congressional approval on military action against Syria .\\nAim is to determine whether CW were used, not by whom, says U.N. spokesman .   \n",
              "1                                                                                                                                              Usain Bolt wins third gold of world championship .\\nAnchors Jamaica to 4x100m relay victory .\\nEighth gold at the championships for Bolt .\\nJamaica double up in women's 4x100m relay .   \n",
              "2                                                                                   The employee in agency's Kansas City office is among hundreds of \"virtual\" workers .\\nThe employee's travel to and from the mainland U.S. last year cost more than $24,000 .\\nThe telecommuting program, like all GSA practices, is under review .   \n",
              "3  NEW: A Canadian doctor says she was part of a team examining Harry Burkhart in 2010 .\\nNEW: Diagnosis: \"autism, severe anxiety, post-traumatic stress disorder and depression\"\\nBurkhart is also suspected in a German arson probe, officials say .\\nProsecutors believe the German national set a string of fires in Los Angeles .   \n",
              "4                                                                                                               Another arrest made in gang rape outside California school .\\nInvestigators say up to 20 people took part or stood and watched the assault .\\nFour suspects appeared in court Thursday; three wore bulletproof vests .   \n",
              "\n",
              "                                         id  article_start_char_idx  \\\n",
              "0  0001d1afc246a7964130f43ae940af6bc6c57f01                       0   \n",
              "1  0002095e55fcbd3a2f366d9bf92a95433dc305ef                       0   \n",
              "2  00027e965c8264c35cc1bc55556db388da82b07f                       0   \n",
              "3  0002c17436637c4fe1837c935c04de47adb18e9a                       0   \n",
              "4  0003ad6ef0c37534f80b55b4235108024b407f0b                       0   \n",
              "\n",
              "   article_end_char_idx  highlights_start_char_idx  highlights_end_char_idx  \n",
              "0                   663                          0                      113  \n",
              "1                   563                          0                      107  \n",
              "2                   644                          0                      133  \n",
              "3                   576                          0                      106  \n",
              "4                   575                          0                      144  "
            ],
            "text/html": [
              "\n",
              "  <div id=\"df-182386f4-6922-4921-937b-0fb3ccd974a5\">\n",
              "    <div class=\"colab-df-container\">\n",
              "      <div>\n",
              "<style scoped>\n",
              "    .dataframe tbody tr th:only-of-type {\n",
              "        vertical-align: middle;\n",
              "    }\n",
              "\n",
              "    .dataframe tbody tr th {\n",
              "        vertical-align: top;\n",
              "    }\n",
              "\n",
              "    .dataframe thead th {\n",
              "        text-align: right;\n",
              "    }\n",
              "</style>\n",
              "<table border=\"1\" class=\"dataframe\">\n",
              "  <thead>\n",
              "    <tr style=\"text-align: right;\">\n",
              "      <th></th>\n",
              "      <th>proc_highlights</th>\n",
              "      <th>proc_article</th>\n",
              "      <th>article</th>\n",
              "      <th>highlights</th>\n",
              "      <th>id</th>\n",
              "      <th>article_start_char_idx</th>\n",
              "      <th>article_end_char_idx</th>\n",
              "      <th>highlights_start_char_idx</th>\n",
              "      <th>highlights_end_char_idx</th>\n",
              "    </tr>\n",
              "  </thead>\n",
              "  <tbody>\n",
              "    <tr>\n",
              "      <th>0</th>\n",
              "      <td>Syrian official: Obama climbed to the top of the tree, \"doesn't know how to get down\"\\nObama sends a letter to the</td>\n",
              "      <td>It's official: U.S. President Barack Obama wants lawmakers to weigh in on whether to use military force in Syria. Obama sent a letter to the heads of the House and Senate on Saturday night, hours after announcing that he believes military action against Syrian targets is the right step to take over the alleged use of chemical weapons. The proposed legislation from Obama asks Congress to approve the use of military force \"to deter, disrupt, prevent and degrade the potential for future uses of chemical weapons or other weapons of mass destruction.\" It's a step that is set to turn an internat...</td>\n",
              "      <td>It's official: U.S. President Barack Obama wants lawmakers to weigh in on whether to use military force in Syria. Obama sent a letter to the heads of the House and Senate on Saturday night, hours after announcing that he believes military action against Syrian targets is the right step to take over the alleged use of chemical weapons. The proposed legislation from Obama asks Congress to approve the use of military force \"to deter, disrupt, prevent and degrade the potential for future uses of chemical weapons or other weapons of mass destruction.\" It's a step that is set to turn an internat...</td>\n",
              "      <td>Syrian official: Obama climbed to the top of the tree, \"doesn't know how to get down\"\\nObama sends a letter to the heads of the House and Senate .\\nObama to seek congressional approval on military action against Syria .\\nAim is to determine whether CW were used, not by whom, says U.N. spokesman .</td>\n",
              "      <td>0001d1afc246a7964130f43ae940af6bc6c57f01</td>\n",
              "      <td>0</td>\n",
              "      <td>663</td>\n",
              "      <td>0</td>\n",
              "      <td>113</td>\n",
              "    </tr>\n",
              "    <tr>\n",
              "      <th>1</th>\n",
              "      <td>Usain Bolt wins third gold of world championship .\\nAnchors Jamaica to 4x100m relay victory .\\nEighth gold at</td>\n",
              "      <td>(CNN) -- Usain Bolt rounded off the world championships Sunday by claiming his third gold in Moscow as he anchored Jamaica to victory in the men's 4x100m relay. The fastest man in the world charged clear of United States rival Justin Gatlin as the Jamaican quartet of Nesta Carter, Kemar Bailey-Cole, Nickel Ashmeade and Bolt won in 37.36 seconds. The U.S finished second in 37.56 seconds with Canada taking the bronze after Britain were disqualified for a faulty handover. The 26-year-old Bolt has now collected eight gold medals at world championships, equaling</td>\n",
              "      <td>(CNN) -- Usain Bolt rounded off the world championships Sunday by claiming his third gold in Moscow as he anchored Jamaica to victory in the men's 4x100m relay. The fastest man in the world charged clear of United States rival Justin Gatlin as the Jamaican quartet of Nesta Carter, Kemar Bailey-Cole, Nickel Ashmeade and Bolt won in 37.36 seconds. The U.S finished second in 37.56 seconds with Canada taking the bronze after Britain were disqualified for a faulty handover. The 26-year-old Bolt has now collected eight gold medals at world championships, equaling the record held by American trio...</td>\n",
              "      <td>Usain Bolt wins third gold of world championship .\\nAnchors Jamaica to 4x100m relay victory .\\nEighth gold at the championships for Bolt .\\nJamaica double up in women's 4x100m relay .</td>\n",
              "      <td>0002095e55fcbd3a2f366d9bf92a95433dc305ef</td>\n",
              "      <td>0</td>\n",
              "      <td>563</td>\n",
              "      <td>0</td>\n",
              "      <td>107</td>\n",
              "    </tr>\n",
              "    <tr>\n",
              "      <th>2</th>\n",
              "      <td>The employee in agency's Kansas City office is among hundreds of \"virtual\" workers .\\nThe employee's travel to and from the mainland U.</td>\n",
              "      <td>Kansas City, Missouri (CNN) -- The General Services Administration, already under investigation for lavish spending, allowed an employee to telecommute from Hawaii even though he is based at the GSA's Kansas City, Missouri, office, a CNN investigation has found. It cost more than $24,000 for the business development specialist to travel to and from the mainland United States over the past year. He is among several hundred GSA \"virtual\" workers who also travel to various conferences and their home offices, costing the agency millions of dollars over the past three years. Under the program, ...</td>\n",
              "      <td>Kansas City, Missouri (CNN) -- The General Services Administration, already under investigation for lavish spending, allowed an employee to telecommute from Hawaii even though he is based at the GSA's Kansas City, Missouri, office, a CNN investigation has found. It cost more than $24,000 for the business development specialist to travel to and from the mainland United States over the past year. He is among several hundred GSA \"virtual\" workers who also travel to various conferences and their home offices, costing the agency millions of dollars over the past three years. Under the program, ...</td>\n",
              "      <td>The employee in agency's Kansas City office is among hundreds of \"virtual\" workers .\\nThe employee's travel to and from the mainland U.S. last year cost more than $24,000 .\\nThe telecommuting program, like all GSA practices, is under review .</td>\n",
              "      <td>00027e965c8264c35cc1bc55556db388da82b07f</td>\n",
              "      <td>0</td>\n",
              "      <td>644</td>\n",
              "      <td>0</td>\n",
              "      <td>133</td>\n",
              "    </tr>\n",
              "    <tr>\n",
              "      <th>3</th>\n",
              "      <td>NEW: A Canadian doctor says she was part of a team examining Harry Burkhart in 2010 .\\nNEW: Diagnosis: \"auti</td>\n",
              "      <td>Los Angeles (CNN) -- A medical doctor in Vancouver, British Columbia, said Thursday that California arson suspect Harry Burkhart suffered from severe mental illness in 2010, when she examined him as part of a team of doctors. Dr. Blaga Stancheva, a family physician and specialist in obstetrics, said both Burkhart and his mother, Dorothee, were her patients in Vancouver while both were applying for refugee status in Canada. \"I was asked to diagnose and treat Harry to support a claim explaining why he was unable to show up in a small-claims court case,\" Stancheva told CNN</td>\n",
              "      <td>Los Angeles (CNN) -- A medical doctor in Vancouver, British Columbia, said Thursday that California arson suspect Harry Burkhart suffered from severe mental illness in 2010, when she examined him as part of a team of doctors. Dr. Blaga Stancheva, a family physician and specialist in obstetrics, said both Burkhart and his mother, Dorothee, were her patients in Vancouver while both were applying for refugee status in Canada. \"I was asked to diagnose and treat Harry to support a claim explaining why he was unable to show up in a small-claims court case,\" Stancheva told CNN in a phone intervie...</td>\n",
              "      <td>NEW: A Canadian doctor says she was part of a team examining Harry Burkhart in 2010 .\\nNEW: Diagnosis: \"autism, severe anxiety, post-traumatic stress disorder and depression\"\\nBurkhart is also suspected in a German arson probe, officials say .\\nProsecutors believe the German national set a string of fires in Los Angeles .</td>\n",
              "      <td>0002c17436637c4fe1837c935c04de47adb18e9a</td>\n",
              "      <td>0</td>\n",
              "      <td>576</td>\n",
              "      <td>0</td>\n",
              "      <td>106</td>\n",
              "    </tr>\n",
              "    <tr>\n",
              "      <th>4</th>\n",
              "      <td>Another arrest made in gang rape outside California school .\\nInvestigators say up to 20 people took part or stood and watched the assault .\\nFour</td>\n",
              "      <td>(CNN) -- Police arrested another teen Thursday, the sixth suspect jailed in connection with the gang rape of a 15-year-old girl on a northern California high school campus. Jose Carlos Montano, 18, was arrested on charges of felony rape, rape in concert with force, and penetration with a foreign object, said Richmond Police Lt. Mark Gagan. Montano was arrested Thursday evening in San Pablo, California, a small town about two miles from the city of Richmond, where the crime took place. Montano, who was held in lieu of $1.3 million bail, is accused of taking part in what</td>\n",
              "      <td>(CNN) -- Police arrested another teen Thursday, the sixth suspect jailed in connection with the gang rape of a 15-year-old girl on a northern California high school campus. Jose Carlos Montano, 18, was arrested on charges of felony rape, rape in concert with force, and penetration with a foreign object, said Richmond Police Lt. Mark Gagan. Montano was arrested Thursday evening in San Pablo, California, a small town about two miles from the city of Richmond, where the crime took place. Montano, who was held in lieu of $1.3 million bail, is accused of taking part in what police said was a 2½...</td>\n",
              "      <td>Another arrest made in gang rape outside California school .\\nInvestigators say up to 20 people took part or stood and watched the assault .\\nFour suspects appeared in court Thursday; three wore bulletproof vests .</td>\n",
              "      <td>0003ad6ef0c37534f80b55b4235108024b407f0b</td>\n",
              "      <td>0</td>\n",
              "      <td>575</td>\n",
              "      <td>0</td>\n",
              "      <td>144</td>\n",
              "    </tr>\n",
              "  </tbody>\n",
              "</table>\n",
              "</div>\n",
              "      <button class=\"colab-df-convert\" onclick=\"convertToInteractive('df-182386f4-6922-4921-937b-0fb3ccd974a5')\"\n",
              "              title=\"Convert this dataframe to an interactive table.\"\n",
              "              style=\"display:none;\">\n",
              "        \n",
              "  <svg xmlns=\"http://www.w3.org/2000/svg\" height=\"24px\"viewBox=\"0 0 24 24\"\n",
              "       width=\"24px\">\n",
              "    <path d=\"M0 0h24v24H0V0z\" fill=\"none\"/>\n",
              "    <path d=\"M18.56 5.44l.94 2.06.94-2.06 2.06-.94-2.06-.94-.94-2.06-.94 2.06-2.06.94zm-11 1L8.5 8.5l.94-2.06 2.06-.94-2.06-.94L8.5 2.5l-.94 2.06-2.06.94zm10 10l.94 2.06.94-2.06 2.06-.94-2.06-.94-.94-2.06-.94 2.06-2.06.94z\"/><path d=\"M17.41 7.96l-1.37-1.37c-.4-.4-.92-.59-1.43-.59-.52 0-1.04.2-1.43.59L10.3 9.45l-7.72 7.72c-.78.78-.78 2.05 0 2.83L4 21.41c.39.39.9.59 1.41.59.51 0 1.02-.2 1.41-.59l7.78-7.78 2.81-2.81c.8-.78.8-2.07 0-2.86zM5.41 20L4 18.59l7.72-7.72 1.47 1.35L5.41 20z\"/>\n",
              "  </svg>\n",
              "      </button>\n",
              "      \n",
              "  <style>\n",
              "    .colab-df-container {\n",
              "      display:flex;\n",
              "      flex-wrap:wrap;\n",
              "      gap: 12px;\n",
              "    }\n",
              "\n",
              "    .colab-df-convert {\n",
              "      background-color: #E8F0FE;\n",
              "      border: none;\n",
              "      border-radius: 50%;\n",
              "      cursor: pointer;\n",
              "      display: none;\n",
              "      fill: #1967D2;\n",
              "      height: 32px;\n",
              "      padding: 0 0 0 0;\n",
              "      width: 32px;\n",
              "    }\n",
              "\n",
              "    .colab-df-convert:hover {\n",
              "      background-color: #E2EBFA;\n",
              "      box-shadow: 0px 1px 2px rgba(60, 64, 67, 0.3), 0px 1px 3px 1px rgba(60, 64, 67, 0.15);\n",
              "      fill: #174EA6;\n",
              "    }\n",
              "\n",
              "    [theme=dark] .colab-df-convert {\n",
              "      background-color: #3B4455;\n",
              "      fill: #D2E3FC;\n",
              "    }\n",
              "\n",
              "    [theme=dark] .colab-df-convert:hover {\n",
              "      background-color: #434B5C;\n",
              "      box-shadow: 0px 1px 3px 1px rgba(0, 0, 0, 0.15);\n",
              "      filter: drop-shadow(0px 1px 2px rgba(0, 0, 0, 0.3));\n",
              "      fill: #FFFFFF;\n",
              "    }\n",
              "  </style>\n",
              "\n",
              "      <script>\n",
              "        const buttonEl =\n",
              "          document.querySelector('#df-182386f4-6922-4921-937b-0fb3ccd974a5 button.colab-df-convert');\n",
              "        buttonEl.style.display =\n",
              "          google.colab.kernel.accessAllowed ? 'block' : 'none';\n",
              "\n",
              "        async function convertToInteractive(key) {\n",
              "          const element = document.querySelector('#df-182386f4-6922-4921-937b-0fb3ccd974a5');\n",
              "          const dataTable =\n",
              "            await google.colab.kernel.invokeFunction('convertToInteractive',\n",
              "                                                     [key], {});\n",
              "          if (!dataTable) return;\n",
              "\n",
              "          const docLinkHtml = 'Like what you see? Visit the ' +\n",
              "            '<a target=\"_blank\" href=https://colab.research.google.com/notebooks/data_table.ipynb>data table notebook</a>'\n",
              "            + ' to learn more about interactive tables.';\n",
              "          element.innerHTML = '';\n",
              "          dataTable['output_type'] = 'display_data';\n",
              "          await google.colab.output.renderOutput(dataTable, element);\n",
              "          const docLink = document.createElement('div');\n",
              "          docLink.innerHTML = docLinkHtml;\n",
              "          element.appendChild(docLink);\n",
              "        }\n",
              "      </script>\n",
              "    </div>\n",
              "  </div>\n",
              "  "
            ]
          },
          "metadata": {},
          "execution_count": 89
        }
      ]
    },
    {
      "cell_type": "code",
      "source": [
        "def generateTextArgs():\n",
        "  text_gen_kwargs = {}\n",
        "  if hf_arch in [\"bart\", \"t5\"]:\n",
        "      text_gen_kwargs = {**hf_config.task_specific_params[\"summarization\"], **{\"max_length\": 50, \"min_length\": 10}}\n",
        "\n",
        "  generate_func_args = list(inspect.signature(hf_model.generate).parameters.keys())\n",
        "\n",
        "  # Remove unnecessary function arguments from the dictionary\n",
        "  for k in text_gen_kwargs.copy():\n",
        "      if k not in generate_func_args:\n",
        "          del text_gen_kwargs[k]\n",
        "  \n",
        "  return text_gen_kwargs"
      ],
      "metadata": {
        "id": "hh8mIHeByhaz"
      },
      "execution_count": null,
      "outputs": []
    },
    {
      "cell_type": "code",
      "source": [
        "# Generate the arguments for summarization\n",
        "text_gen_kwargs = generateTextArgs()\n",
        "\n",
        "# Tokenize the data\n",
        "if hf_arch == \"mbart\":\n",
        "    text_gen_kwargs[\"decoder_start_token_id\"] = hf_tokenizer.get_vocab()[\"en_XX\"]\n",
        "  \n",
        "tok_kwargs = {}\n",
        "if hf_arch == \"mbart\":\n",
        "    tok_kwargs[\"src_lang\"], tok_kwargs[\"tgt_lang\"] = \"en_XX\", \"en_XX\"\n",
        "\n",
        "\n",
        "# Returns a mini-batch of inputs and targets along with decoding the tokenizer dictionary.\n",
        "batch_tokenize_tfm = Seq2SeqBatchTokenizeTransform(\n",
        "    hf_arch,\n",
        "    hf_config,\n",
        "    hf_tokenizer,\n",
        "    hf_model,\n",
        "    max_length=256,\n",
        "    max_target_length=130,\n",
        "    tok_kwargs=tok_kwargs,\n",
        "    text_gen_kwargs=text_gen_kwargs,\n",
        ")\n",
        "\n",
        "# Prepares the training blocks\n",
        "blocks = (Seq2SeqTextBlock(batch_tokenize_tfm=batch_tokenize_tfm), noop)\n",
        "\n",
        "\n",
        "# Generating data blocks for fast processing and training\n",
        "data_block = DataBlock(blocks=blocks, get_x=ColReader(\"article\"), get_y=ColReader(\"highlights\"), splitter=RandomSplitter())"
      ],
      "metadata": {
        "id": "9rTJZD5nW2MN"
      },
      "execution_count": null,
      "outputs": []
    },
    {
      "cell_type": "code",
      "source": [
        "data_loaders = data_block.dataloaders(df, bs=4)"
      ],
      "metadata": {
        "colab": {
          "base_uri": "https://localhost:8080/"
        },
        "id": "xP1qmanXXMVp",
        "outputId": "c41c7364-06b6-4026-96c9-f84274bf437b"
      },
      "execution_count": null,
      "outputs": [
        {
          "output_type": "stream",
          "name": "stderr",
          "text": [
            "/usr/local/lib/python3.8/dist-packages/transformers/tokenization_utils_base.py:3578: UserWarning: `as_target_tokenizer` is deprecated and will be removed in v5 of Transformers. You can tokenize your labels by using the argument `text_target` of the regular `__call__` method (either in the same call as your input texts if you use the same keyword arguments, or in a separate call.\n",
            "  warnings.warn(\n"
          ]
        }
      ]
    },
    {
      "cell_type": "code",
      "source": [
        "b = data_loaders.one_batch()"
      ],
      "metadata": {
        "id": "F4Rh1GoeXqca"
      },
      "execution_count": null,
      "outputs": []
    },
    {
      "cell_type": "code",
      "source": [
        "data_loaders.show_batch(dataloaders=data_loaders, max_n=4)"
      ],
      "metadata": {
        "colab": {
          "base_uri": "https://localhost:8080/",
          "height": 539
        },
        "id": "nFfJXnSgXve0",
        "outputId": "50330615-94c1-4e6c-8d20-8b4b7cc6d1d0"
      },
      "execution_count": null,
      "outputs": [
        {
          "output_type": "display_data",
          "data": {
            "text/plain": [
              "<IPython.core.display.HTML object>"
            ],
            "text/html": [
              "<table border=\"1\" class=\"dataframe\">\n",
              "  <thead>\n",
              "    <tr style=\"text-align: right;\">\n",
              "      <th></th>\n",
              "      <th>text</th>\n",
              "      <th>target</th>\n",
              "    </tr>\n",
              "  </thead>\n",
              "  <tbody>\n",
              "    <tr>\n",
              "      <th>0</th>\n",
              "      <td>&lt;s&gt; (CNN) -- On the sweltering evening of April 12, 2009, as dusk deepened over the Indian Ocean, several hundred miles off the coast of Somalia, three shots rang out. All the bullets found their targets -- three Somali pirates in a small lifeboat bobbing on the darkening sea. For the past five days the pirates had taken hostage Richard Phillips, the American captain of the Maersk Alabama container ship. President Barack Obama had authorized the use of deadly force if Phillips' life was in danger. Unbeknownst to the pirates, days earlier a contingent from SEAL Team 6 had parachuted at night into the ocean near the USS Bainbridge warship, which was shadowing the pirates in their boat. The SEALs had taken up position on the fantail of the Bainbridge and were carefully monitoring Phillips while he was in the custody of the pirates. One of the pirates had just pointed his AK-47 at the American captain as if he were going to shoot him. That's when the SEAL team commander on the Bainbridge ordered his men to take out the pirates. U.S. terror raids: 2 operations. 2 outcomes. 5 questions. Three U.S. Navy SEAL sharpshooters fired simultaneously at the pirates from&lt;/s&gt;</td>\n",
              "      <td>Peter Bergen: After 'Blackhawk Down' disaster, U.S. stopped relying on special forces.\\nHe says 9/11 led to renewed interest in using SEALs, other special forces.\\nBergen: Weekend's operations show Obama's continued support for special forces.\\n2009 rescue of U.S. merchant captain from pirates impressed Obama, he says.</td>\n",
              "    </tr>\n",
              "    <tr>\n",
              "      <th>1</th>\n",
              "      <td>&lt;s&gt; (CNN) -- The generation of gays and lesbians that literally created the modern LGBT movement -- from the heroes of the 1969 Stonewall riots to their slightly younger friends -- is at, or nearing, retirement age. That used to mean the beginning of an extremely difficult time in an LGBT person's life. But as gay baby boomers find more acceptance in mainstream society and continue to do what they've always done -- push to make a better world for the LGBT community -- their retirement options are slowly improving. That is, if they decide to retire at all. \"The notion of retirement has never been a part of my vocabulary,\" said Bob Witeck, CEO and co-founder of Witeck Communications. Nearly 61, Witeck has put some thought into what he should do with his strategic public relations and marketing firm as he gets older. Like many friends his age who are also entrepreneurs, he plans to keep working. \"Because I run a business, as I get older I can change the intensity of my engagement in the kinds of work I take on,\" Witeck said. \"I know I'm lucky that way, and I'm lucky in my personal life as well. My husband is 50, so I have a younger man to help me&lt;/s&gt;</td>\n",
              "      <td>LGBT baby boomers changed the visibility of the gay community.\\nAs they approach retirement, they face different obstacles than their straight counterparts.\\nWithout marriage equality, same-sex couples may face financial hardships.\\nAdvocates say the situation is slowly improving.</td>\n",
              "    </tr>\n",
              "    <tr>\n",
              "      <th>2</th>\n",
              "      <td>&lt;s&gt; Four decades before anyone took an arrow to the knee in \"Skyrim,\" adventurers were sitting down with paper and pencil to battle fantasy monsters and explore rich, new worlds in a different kind of role-playing game. \"Dungeons &amp; Dragons,\" commonly known simply as D&amp;D, burst onto the scene in 1974, long before the word \"gaming\" came with the implied word \"video\" in front of it. In D&amp;D, the brainchild of creators Gary Gygax and Dave Arneson, players could become fighters, magic-users, and clerics, and run through adventures created by a \"Dungeon Master\" or \"DM\" -- the person responsible for controlling nearly every aspect of the game. Players sat around a table rolling multi-sided dice and visualizing the adventure using just their imaginations -- a far cry from today's vast, richly rendered video-game worlds. But four decades later, and with all its high-tech competition, \"Dungeons &amp; Dragons\" continues to grow and evolve. And many of today's  computer games, animated television shows, feature films, novels, and even pop and rock songs owe much to D&amp;D lore. \"In today's culture, D&amp;D has found its place as&lt;/s&gt;</td>\n",
              "      <td>As \"Dungeons &amp; Dragons\" turns 40, it's still inspiring gamers.\\nThe 5th edition of D&amp;D rules will be announced Monday.\\nVideo games, movies, TV shows owe a debt to the classic game.\\nWizards of the Coast says game will continue having digital components.</td>\n",
              "    </tr>\n",
              "    <tr>\n",
              "      <th>3</th>\n",
              "      <td>&lt;s&gt; London (CNN) -- As tens of thousands of athletes, team officials and visitors gather in London ahead of the Olympic opening ceremony on Friday, security is paramount for the Games organizers and British authorities. And perhaps the biggest headache of all is the challenge of safeguarding the more than 100 heads of state and foreign dignitaries who will attend the opening ceremony at the Olympic Park -- Queen Elizabeth II, first lady Michelle Obama and U.S. presidential hopeful Mitt Romney among them. But should visitors and competitors be worried? Security concerns hit the headlines this month when it emerged that private security contractor G4S, which was supposed to have provided 10,400 guards for the Olympics and Paralympics, would not be able to deliver. As a result, the government is deploying 18,200 troops -- many more than planned and almost twice as many as are in Afghanistan -- in order to remedy the shortfall. About 1,200 of those were called up just this week after being placed on standby. Nonetheless, Culture Secretary Jeremy Hunt, the minister responsible for the Games, said Tuesday that the government \"continues to have every confidence that we will deliver a safe and secure Games.\" The decision to call up the extra troops was down to ministers' determination to \"leave nothing to chance&lt;/s&gt;</td>\n",
              "      <td>The government is deploying 18,200 troops to make up for a shortfall in security guards.\\nOne headache is safeguarding more than 100 visiting heads of state and foreign dignitaries.\\nPrivate security contractor G4S has failed to recruit and accredit enough security staff.\\nFighter jets are on standby, and a helicopter carrier is moored in the Thames.</td>\n",
              "    </tr>\n",
              "  </tbody>\n",
              "</table>"
            ]
          },
          "metadata": {}
        }
      ]
    },
    {
      "cell_type": "code",
      "source": [
        "seq2seq_metrics = {\n",
        "    \"rouge\": {\n",
        "        \"compute_kwargs\": {\"rouge_types\": [\"rouge1\", \"rouge2\", \"rougeL\", \"rougeLsum\"], \"use_stemmer\": True},\n",
        "        \"returns\": [\"rouge1\", \"rouge2\", \"rougeL\", \"rougeLsum\"],\n",
        "    },\n",
        "    \"bertscore\": {\"compute_kwargs\": {\"lang\": \"en\"}, \"returns\": [\"precision\", \"recall\", \"f1\"]},\n",
        "}"
      ],
      "metadata": {
        "id": "05_SKp_KX4O9"
      },
      "execution_count": null,
      "outputs": []
    },
    {
      "cell_type": "code",
      "source": [
        "# Get the model and learning metrics which include ROUGE and BERT Score\n",
        "\n",
        "model = BaseModelWrapper(hf_model)\n",
        "learn_cbs = [BaseModelCallback]\n",
        "metrics = [Seq2SeqMetricsCallback(custom_metrics=seq2seq_metrics)]\n",
        "\n",
        "learn = Learner(\n",
        "    data_loaders,\n",
        "    model,\n",
        "    opt_func=partial(Adam),\n",
        "    loss_func=CrossEntropyLossFlat(),\n",
        "    cbs=learn_cbs,\n",
        "    splitter=partial(blurr_seq2seq_splitter, arch=hf_arch),\n",
        ")\n",
        "\n",
        "# learn = learn.to_native_fp16() #.to_fp16()\n",
        "learn.freeze()"
      ],
      "metadata": {
        "id": "P4SEZTBQX7-k"
      },
      "execution_count": null,
      "outputs": []
    },
    {
      "cell_type": "code",
      "source": [
        "learn.summary()"
      ],
      "metadata": {
        "colab": {
          "base_uri": "https://localhost:8080/",
          "height": 1000
        },
        "id": "qp5RWArJYK6P",
        "outputId": "b75d2f29-a069-47e5-88db-b56324246fe7"
      },
      "execution_count": null,
      "outputs": [
        {
          "output_type": "stream",
          "name": "stderr",
          "text": [
            "/usr/local/lib/python3.8/dist-packages/transformers/tokenization_utils_base.py:3578: UserWarning: `as_target_tokenizer` is deprecated and will be removed in v5 of Transformers. You can tokenize your labels by using the argument `text_target` of the regular `__call__` method (either in the same call as your input texts if you use the same keyword arguments, or in a separate call.\n",
            "  warnings.warn(\n"
          ]
        },
        {
          "output_type": "display_data",
          "data": {
            "text/plain": [
              "<IPython.core.display.HTML object>"
            ],
            "text/html": [
              "\n",
              "<style>\n",
              "    /* Turns off some styling */\n",
              "    progress {\n",
              "        /* gets rid of default border in Firefox and Opera. */\n",
              "        border: none;\n",
              "        /* Needs to be in here for Safari polyfill so background images work as expected. */\n",
              "        background-size: auto;\n",
              "    }\n",
              "    progress:not([value]), progress:not([value])::-webkit-progress-bar {\n",
              "        background: repeating-linear-gradient(45deg, #7e7e7e, #7e7e7e 10px, #5c5c5c 10px, #5c5c5c 20px);\n",
              "    }\n",
              "    .progress-bar-interrupted, .progress-bar-interrupted::-webkit-progress-bar {\n",
              "        background: #F44336;\n",
              "    }\n",
              "</style>\n"
            ]
          },
          "metadata": {}
        },
        {
          "output_type": "display_data",
          "data": {
            "text/plain": [
              "<IPython.core.display.HTML object>"
            ],
            "text/html": []
          },
          "metadata": {}
        },
        {
          "output_type": "execute_result",
          "data": {
            "text/plain": [
              "BaseModelWrapper (Input shape: 4 x 256)\n",
              "============================================================================\n",
              "Layer (type)         Output Shape         Param #    Trainable \n",
              "============================================================================\n",
              "                     4 x 256 x 1024      \n",
              "Embedding                                 51470336   False     \n",
              "BartLearnedPositionalEmbedding                      1050624    False     \n",
              "Linear                                    1049600    False     \n",
              "Linear                                    1049600    False     \n",
              "Linear                                    1049600    False     \n",
              "Linear                                    1049600    False     \n",
              "LayerNorm                                 2048       True      \n",
              "GELUActivation                                                 \n",
              "Linear                                    4198400    False     \n",
              "____________________________________________________________________________\n",
              "                     4 x 256 x 1024      \n",
              "Linear                                    4195328    False     \n",
              "LayerNorm                                 2048       True      \n",
              "Linear                                    1049600    False     \n",
              "Linear                                    1049600    False     \n",
              "Linear                                    1049600    False     \n",
              "Linear                                    1049600    False     \n",
              "LayerNorm                                 2048       True      \n",
              "GELUActivation                                                 \n",
              "Linear                                    4198400    False     \n",
              "____________________________________________________________________________\n",
              "                     4 x 256 x 1024      \n",
              "Linear                                    4195328    False     \n",
              "LayerNorm                                 2048       True      \n",
              "Linear                                    1049600    False     \n",
              "Linear                                    1049600    False     \n",
              "Linear                                    1049600    False     \n",
              "Linear                                    1049600    False     \n",
              "LayerNorm                                 2048       True      \n",
              "GELUActivation                                                 \n",
              "Linear                                    4198400    False     \n",
              "____________________________________________________________________________\n",
              "                     4 x 256 x 1024      \n",
              "Linear                                    4195328    False     \n",
              "LayerNorm                                 2048       True      \n",
              "Linear                                    1049600    False     \n",
              "Linear                                    1049600    False     \n",
              "Linear                                    1049600    False     \n",
              "Linear                                    1049600    False     \n",
              "LayerNorm                                 2048       True      \n",
              "GELUActivation                                                 \n",
              "Linear                                    4198400    False     \n",
              "____________________________________________________________________________\n",
              "                     4 x 256 x 1024      \n",
              "Linear                                    4195328    False     \n",
              "LayerNorm                                 2048       True      \n",
              "Linear                                    1049600    False     \n",
              "Linear                                    1049600    False     \n",
              "Linear                                    1049600    False     \n",
              "Linear                                    1049600    False     \n",
              "LayerNorm                                 2048       True      \n",
              "GELUActivation                                                 \n",
              "Linear                                    4198400    False     \n",
              "____________________________________________________________________________\n",
              "                     4 x 256 x 1024      \n",
              "Linear                                    4195328    False     \n",
              "LayerNorm                                 2048       True      \n",
              "Linear                                    1049600    False     \n",
              "Linear                                    1049600    False     \n",
              "Linear                                    1049600    False     \n",
              "Linear                                    1049600    False     \n",
              "LayerNorm                                 2048       True      \n",
              "GELUActivation                                                 \n",
              "Linear                                    4198400    False     \n",
              "____________________________________________________________________________\n",
              "                     4 x 256 x 1024      \n",
              "Linear                                    4195328    False     \n",
              "LayerNorm                                 2048       True      \n",
              "LayerNorm                                 2048       True      \n",
              "____________________________________________________________________________\n",
              "                     4 x 77 x 1024       \n",
              "Embedding                                 51470336   False     \n",
              "BartLearnedPositionalEmbedding                      1050624    False     \n",
              "Linear                                    1049600    True      \n",
              "Linear                                    1049600    True      \n",
              "Linear                                    1049600    True      \n",
              "Linear                                    1049600    True      \n",
              "GELUActivation                                                 \n",
              "LayerNorm                                 2048       True      \n",
              "Linear                                    1049600    True      \n",
              "Linear                                    1049600    True      \n",
              "Linear                                    1049600    True      \n",
              "Linear                                    1049600    True      \n",
              "LayerNorm                                 2048       True      \n",
              "____________________________________________________________________________\n",
              "                     4 x 77 x 4096       \n",
              "Linear                                    4198400    True      \n",
              "____________________________________________________________________________\n",
              "                     4 x 77 x 1024       \n",
              "Linear                                    4195328    True      \n",
              "LayerNorm                                 2048       True      \n",
              "Linear                                    1049600    True      \n",
              "Linear                                    1049600    True      \n",
              "Linear                                    1049600    True      \n",
              "Linear                                    1049600    True      \n",
              "GELUActivation                                                 \n",
              "LayerNorm                                 2048       True      \n",
              "Linear                                    1049600    True      \n",
              "Linear                                    1049600    True      \n",
              "Linear                                    1049600    True      \n",
              "Linear                                    1049600    True      \n",
              "LayerNorm                                 2048       True      \n",
              "____________________________________________________________________________\n",
              "                     4 x 77 x 4096       \n",
              "Linear                                    4198400    True      \n",
              "____________________________________________________________________________\n",
              "                     4 x 77 x 1024       \n",
              "Linear                                    4195328    True      \n",
              "LayerNorm                                 2048       True      \n",
              "Linear                                    1049600    True      \n",
              "Linear                                    1049600    True      \n",
              "Linear                                    1049600    True      \n",
              "Linear                                    1049600    True      \n",
              "GELUActivation                                                 \n",
              "LayerNorm                                 2048       True      \n",
              "Linear                                    1049600    True      \n",
              "Linear                                    1049600    True      \n",
              "Linear                                    1049600    True      \n",
              "Linear                                    1049600    True      \n",
              "LayerNorm                                 2048       True      \n",
              "____________________________________________________________________________\n",
              "                     4 x 77 x 4096       \n",
              "Linear                                    4198400    True      \n",
              "____________________________________________________________________________\n",
              "                     4 x 77 x 1024       \n",
              "Linear                                    4195328    True      \n",
              "LayerNorm                                 2048       True      \n",
              "Linear                                    1049600    True      \n",
              "Linear                                    1049600    True      \n",
              "Linear                                    1049600    True      \n",
              "Linear                                    1049600    True      \n",
              "GELUActivation                                                 \n",
              "LayerNorm                                 2048       True      \n",
              "Linear                                    1049600    True      \n",
              "Linear                                    1049600    True      \n",
              "Linear                                    1049600    True      \n",
              "Linear                                    1049600    True      \n",
              "LayerNorm                                 2048       True      \n",
              "____________________________________________________________________________\n",
              "                     4 x 77 x 4096       \n",
              "Linear                                    4198400    True      \n",
              "____________________________________________________________________________\n",
              "                     4 x 77 x 1024       \n",
              "Linear                                    4195328    True      \n",
              "LayerNorm                                 2048       True      \n",
              "Linear                                    1049600    True      \n",
              "Linear                                    1049600    True      \n",
              "Linear                                    1049600    True      \n",
              "Linear                                    1049600    True      \n",
              "GELUActivation                                                 \n",
              "LayerNorm                                 2048       True      \n",
              "Linear                                    1049600    True      \n",
              "Linear                                    1049600    True      \n",
              "Linear                                    1049600    True      \n",
              "Linear                                    1049600    True      \n",
              "LayerNorm                                 2048       True      \n",
              "____________________________________________________________________________\n",
              "                     4 x 77 x 4096       \n",
              "Linear                                    4198400    True      \n",
              "____________________________________________________________________________\n",
              "                     4 x 77 x 1024       \n",
              "Linear                                    4195328    True      \n",
              "LayerNorm                                 2048       True      \n",
              "Linear                                    1049600    True      \n",
              "Linear                                    1049600    True      \n",
              "Linear                                    1049600    True      \n",
              "Linear                                    1049600    True      \n",
              "GELUActivation                                                 \n",
              "LayerNorm                                 2048       True      \n",
              "Linear                                    1049600    True      \n",
              "Linear                                    1049600    True      \n",
              "Linear                                    1049600    True      \n",
              "Linear                                    1049600    True      \n",
              "LayerNorm                                 2048       True      \n",
              "____________________________________________________________________________\n",
              "                     4 x 77 x 4096       \n",
              "Linear                                    4198400    True      \n",
              "____________________________________________________________________________\n",
              "                     4 x 77 x 1024       \n",
              "Linear                                    4195328    True      \n",
              "LayerNorm                                 2048       True      \n",
              "LayerNorm                                 2048       True      \n",
              "____________________________________________________________________________\n",
              "                     4 x 77 x 50264      \n",
              "Linear                                    51470336   False     \n",
              "____________________________________________________________________________\n",
              "\n",
              "Total params: 332,873,728\n",
              "Total trainable params: 100,808,704\n",
              "Total non-trainable params: 232,065,024\n",
              "\n",
              "Optimizer used: functools.partial(<function Adam at 0x7f5754276280>)\n",
              "Loss function: FlattenedLoss of CrossEntropyLoss()\n",
              "\n",
              "Model frozen up to parameter group #2\n",
              "\n",
              "Callbacks:\n",
              "  - TrainEvalCallback\n",
              "  - BaseModelCallback\n",
              "  - CastToTensor\n",
              "  - Recorder\n",
              "  - ProgressCallback"
            ],
            "application/vnd.google.colaboratory.intrinsic+json": {
              "type": "string"
            }
          },
          "metadata": {},
          "execution_count": 114
        }
      ]
    },
    {
      "cell_type": "code",
      "source": [
        "# To get a good learning rate and generate a graph of mock training the model.\n",
        "learn.lr_find(suggest_funcs=[minimum, steep, valley, slide])"
      ],
      "metadata": {
        "colab": {
          "base_uri": "https://localhost:8080/",
          "height": 300
        },
        "id": "0y3K6VRHYYXs",
        "outputId": "b83e1efe-4f4a-4442-8f9d-932339c3fe61"
      },
      "execution_count": null,
      "outputs": [
        {
          "output_type": "display_data",
          "data": {
            "text/plain": [
              "<IPython.core.display.HTML object>"
            ],
            "text/html": [
              "\n",
              "<style>\n",
              "    /* Turns off some styling */\n",
              "    progress {\n",
              "        /* gets rid of default border in Firefox and Opera. */\n",
              "        border: none;\n",
              "        /* Needs to be in here for Safari polyfill so background images work as expected. */\n",
              "        background-size: auto;\n",
              "    }\n",
              "    progress:not([value]), progress:not([value])::-webkit-progress-bar {\n",
              "        background: repeating-linear-gradient(45deg, #7e7e7e, #7e7e7e 10px, #5c5c5c 10px, #5c5c5c 20px);\n",
              "    }\n",
              "    .progress-bar-interrupted, .progress-bar-interrupted::-webkit-progress-bar {\n",
              "        background: #F44336;\n",
              "    }\n",
              "</style>\n"
            ]
          },
          "metadata": {}
        },
        {
          "output_type": "display_data",
          "data": {
            "text/plain": [
              "<IPython.core.display.HTML object>"
            ],
            "text/html": []
          },
          "metadata": {}
        },
        {
          "output_type": "execute_result",
          "data": {
            "text/plain": [
              "SuggestedLRs(minimum=4.365158383734525e-06, steep=1.5848931980144698e-06, valley=1.4454397387453355e-05, slide=2.511886486900039e-05)"
            ]
          },
          "metadata": {},
          "execution_count": 116
        },
        {
          "output_type": "display_data",
          "data": {
            "text/plain": [
              "<Figure size 432x288 with 1 Axes>"
            ],
            "image/png": "[encoded data removed]"
          },
          "metadata": {
            "needs_background": "light"
          }
        }
      ]
    },
    {
      "cell_type": "code",
      "source": [
        "# Training the model for 4 epochs with learning rate determined by the graph above\n",
        "learn.fit_one_cycle(4, lr_max=2e-4, cbs=metrics)"
      ],
      "metadata": {
        "colab": {
          "base_uri": "https://localhost:8080/",
          "height": 175
        },
        "id": "czA2N6MuYhm0",
        "outputId": "e80cbd3c-3487-4c3c-a4b6-377367ca82f4"
      },
      "execution_count": null,
      "outputs": [
        {
          "output_type": "display_data",
          "data": {
            "text/plain": [
              "<IPython.core.display.HTML object>"
            ],
            "text/html": [
              "\n",
              "<style>\n",
              "    /* Turns off some styling */\n",
              "    progress {\n",
              "        /* gets rid of default border in Firefox and Opera. */\n",
              "        border: none;\n",
              "        /* Needs to be in here for Safari polyfill so background images work as expected. */\n",
              "        background-size: auto;\n",
              "    }\n",
              "    progress:not([value]), progress:not([value])::-webkit-progress-bar {\n",
              "        background: repeating-linear-gradient(45deg, #7e7e7e, #7e7e7e 10px, #5c5c5c 10px, #5c5c5c 20px);\n",
              "    }\n",
              "    .progress-bar-interrupted, .progress-bar-interrupted::-webkit-progress-bar {\n",
              "        background: #F44336;\n",
              "    }\n",
              "</style>\n"
            ]
          },
          "metadata": {}
        },
        {
          "output_type": "display_data",
          "data": {
            "text/plain": [
              "<IPython.core.display.HTML object>"
            ],
            "text/html": [
              "<table border=\"1\" class=\"dataframe\">\n",
              "  <thead>\n",
              "    <tr style=\"text-align: left;\">\n",
              "      <th>epoch</th>\n",
              "      <th>train_loss</th>\n",
              "      <th>valid_loss</th>\n",
              "      <th>rouge1</th>\n",
              "      <th>rouge2</th>\n",
              "      <th>rougeL</th>\n",
              "      <th>rougeLsum</th>\n",
              "      <th>bertscore_precision</th>\n",
              "      <th>bertscore_recall</th>\n",
              "      <th>bertscore_f1</th>\n",
              "      <th>time</th>\n",
              "    </tr>\n",
              "  </thead>\n",
              "  <tbody>\n",
              "    <tr>\n",
              "      <td>0</td>\n",
              "      <td>1.814227</td>\n",
              "      <td>1.808032</td>\n",
              "      <td>0.361958</td>\n",
              "      <td>0.153636</td>\n",
              "      <td>0.256667</td>\n",
              "      <td>0.340148</td>\n",
              "      <td>0.887442</td>\n",
              "      <td>0.882798</td>\n",
              "      <td>0.885039</td>\n",
              "      <td>03:15</td>\n",
              "    </tr>\n",
              "    <tr>\n",
              "      <td>1</td>\n",
              "      <td>1.518016</td>\n",
              "      <td>1.956506</td>\n",
              "      <td>0.360543</td>\n",
              "      <td>0.149727</td>\n",
              "      <td>0.257250</td>\n",
              "      <td>0.336057</td>\n",
              "      <td>0.887495</td>\n",
              "      <td>0.881984</td>\n",
              "      <td>0.884652</td>\n",
              "      <td>04:19</td>\n",
              "    </tr>\n",
              "    <tr>\n",
              "      <td>2</td>\n",
              "      <td>0.640231</td>\n",
              "      <td>2.164851</td>\n",
              "      <td>0.354107</td>\n",
              "      <td>0.145123</td>\n",
              "      <td>0.251078</td>\n",
              "      <td>0.331283</td>\n",
              "      <td>0.886076</td>\n",
              "      <td>0.881004</td>\n",
              "      <td>0.883458</td>\n",
              "      <td>03:08</td>\n",
              "    </tr>\n",
              "    <tr>\n",
              "      <td>3</td>\n",
              "      <td>0.264946</td>\n",
              "      <td>2.354025</td>\n",
              "      <td>0.359958</td>\n",
              "      <td>0.149314</td>\n",
              "      <td>0.254097</td>\n",
              "      <td>0.336682</td>\n",
              "      <td>0.887613</td>\n",
              "      <td>0.882009</td>\n",
              "      <td>0.884727</td>\n",
              "      <td>03:08</td>\n",
              "    </tr>\n",
              "  </tbody>\n",
              "</table>"
            ]
          },
          "metadata": {}
        }
      ]
    },
    {
      "cell_type": "markdown",
      "source": [
        "As we see above, the ROUGE1 and ROUGE2 scores are not that good compared to the extractive models because the abstractive model like BART generates its own phrases to create a meaningful summary. The generated phrases may not necessarily be a part of the article which is summarized. As ROUGE scores compare the target summary with the summary generated by BART, they tend to be low. \n",
        "\n",
        "On the other hand, BERT score is a viable metric for evaluating the performance of abstractive models because it evaluates the semantic similarity between the tokens present in the target summary and the summary generated by BART. \n",
        "\n",
        "BERT score for the model when trained over only 2000 rows of data, tends to be close to 89% which is a good score compared to the ROUGE scores of extractive models. The BERT score tends to improve as we include more data and tweak the learning rate."
      ],
      "metadata": {
        "id": "tr_Dg_Mp-MOU"
      }
    },
    {
      "cell_type": "code",
      "source": [
        "learn.show_results(learner=learn)"
      ],
      "metadata": {
        "colab": {
          "base_uri": "https://localhost:8080/",
          "height": 254
        },
        "id": "oMtz2bPabmxV",
        "outputId": "8c2e8d4d-0f4f-400f-a4bc-84587d478bc5"
      },
      "execution_count": null,
      "outputs": [
        {
          "output_type": "display_data",
          "data": {
            "text/plain": [
              "<IPython.core.display.HTML object>"
            ],
            "text/html": [
              "\n",
              "<style>\n",
              "    /* Turns off some styling */\n",
              "    progress {\n",
              "        /* gets rid of default border in Firefox and Opera. */\n",
              "        border: none;\n",
              "        /* Needs to be in here for Safari polyfill so background images work as expected. */\n",
              "        background-size: auto;\n",
              "    }\n",
              "    progress:not([value]), progress:not([value])::-webkit-progress-bar {\n",
              "        background: repeating-linear-gradient(45deg, #7e7e7e, #7e7e7e 10px, #5c5c5c 10px, #5c5c5c 20px);\n",
              "    }\n",
              "    .progress-bar-interrupted, .progress-bar-interrupted::-webkit-progress-bar {\n",
              "        background: #F44336;\n",
              "    }\n",
              "</style>\n"
            ]
          },
          "metadata": {}
        },
        {
          "output_type": "display_data",
          "data": {
            "text/plain": [
              "<IPython.core.display.HTML object>"
            ],
            "text/html": []
          },
          "metadata": {}
        },
        {
          "output_type": "display_data",
          "data": {
            "text/plain": [
              "<IPython.core.display.HTML object>"
            ],
            "text/html": [
              "<table border=\"1\" class=\"dataframe\">\n",
              "  <thead>\n",
              "    <tr style=\"text-align: right;\">\n",
              "      <th></th>\n",
              "      <th>text</th>\n",
              "      <th>target</th>\n",
              "      <th>prediction</th>\n",
              "    </tr>\n",
              "  </thead>\n",
              "  <tbody>\n",
              "    <tr>\n",
              "      <th>0</th>\n",
              "      <td>While Iraq's military claimed Wednesday to have driven back militants battling for control of the country, the chairman of the Joint Chiefs of Staff told Congress that the United States has received a request from the Iraqi government to use its air power in the conflict. Gen. Martin Dempsey, the senior ranking member of the U.S. armed forces, spoke before the Senate Appropriations Committee Wednesday on Capitol Hill in Washington, saying that the United States' \"national security interest (is) to counter (ISIS) where we find them.\" ISIS is the Islamic State in Iraq and Syria. Comprising mostly Sunni Muslims, ISIS is an al Qaeda splinter group that wants to establish a caliphate, or Islamic state, that would stretch from Iraq into northern Syria. The group has had substantial success in Syria battling Syrian President Bashar al-Assad's security forces. Since launching their offensive in Iraq, ISIS claims to have killed  at least 1,700 Shiites. Hundreds of thousands of Iraqis have fled, prompting fears of a brewing humanitarian crisis. Qassim Atta, a spokesman for Iraqi security forces, on Wednesday night said an investigation had been ordered into 59 high-ranking security officials accused of leaving their posts. The officials could be executed if found guilty, Atta said. Concerns over</td>\n",
              "      <td>Vice President Biden stresses need for national unity in talk with Iraqi PM.\\nA cleric called for attacks against U.S. embassies in the case of airstrikes.\\nInvestigation will probe Iraqi security forces who left posts, general commander says.\\nSaudi Arabia responds to Iraq's accusation that it's helping ISIS, calling allegation a \"falsehood\"</td>\n",
              "      <td>[ Joint Chiefs of Staff chairman says U.S. has received request from Iraqi government to use air power .\\nGen. Martin Dempsey says the United States wants to counter ISIS .\\nIraq says 59 security officials are being investigated over,  Silvio Berlusconi is seeking to win his old job again as prime minister in Italy .\\nHe resigned in disgrace during a parliamentary revolt in November 2011 .\\nBut recent polls suggest that there is nothing about the race now .,  A wildfire is burning in Colorado near the city of Boulder .\\nUse the Daily Discussion to help students understand today's featured news stories .\\nThe Daily Discussion offers the weekly Newsquiz to test your knowledge of stories you saw on CNN,  President Obama wants Congress to weigh in on military action in Syria .\\nHe believes it is the right step to take over the alleged use of chemical weapons .\\nCongress must also decide whether to authorize limited strikes in Syria, the president says]</td>\n",
              "    </tr>\n",
              "  </tbody>\n",
              "</table>"
            ]
          },
          "metadata": {}
        }
      ]
    },
    {
      "cell_type": "code",
      "source": [
        "article = r\"\"\"Jarre joins fairytale celebration\n",
        "\n",
        "French musician Jean-Michel Jarre is to perform at a concert in Copenhagen to mark the bicentennial of the birth of writer Hans Christian Andersen. Denmark is holding a three-day celebration of the life of the fairy-tale author, with a concert at Parken stadium on 2 April. Other stars are expected to join the line-up in the coming months, and the Danish royal family will attend. \"Christian Andersen's fairy tales are timeless and universal,\" said Jarre. \"For all of us, at any age there is always - beyond the pure enjoyment of the tale - a message to learn.\" There are year-long celebrations planned across the world to celebrate Andersen and his work, which includes The Emperor's New Clothes and The Little Mermaid. Denmark's Crown Prince Frederik and Crown Princess Mary visited New York on Monday to help promote the festivities. The pair were at a Manhattan library to honour US literary critic Harold Bloom \"the international icon we thought we knew so well\". \"Bloom recognizes the darker aspects of Andersen's authorship,\" Prince Frederik said. Bloom is to be formally presented with the Hans Christian Andersen Award this spring in Anderson's hometown of Odense. The royal couple also visited the Hans Christian Anderson School complex, where Queen Mary read The Ugly Duckling to the young audience. Later at a gala dinner, Danish supermodel Helena Christensen was named a Hans Christian Andersen ambassador. Other ambassadors include actors Harvey Keitel and Sir Roger Moore, athlete Cathy Freeman and Brazilian soccer legend Pele.\"\"\"\n",
        "\n",
        "expectPred = r\"\"\"Bloom is to be formally presented with the Hans Christian Andersen Award this spring in Anderson's hometown of Odense.Later at a gala dinner, Danish supermodel Helena Christensen was named a Hans Christian Andersen ambassador.French musician Jean-Michel Jarre is to perform at a concert in Copenhagen to mark the bicentennial of the birth of writer Hans Christian Andersen.\"Christian Andersen's fairy tales are timeless and universal,\" said Jarre.The royal couple also visited the Hans Christian Anderson School complex, where Queen Mary read The Ugly Duckling to the young audience.\"Bloom recognizes the darker aspects of Andersen's authorship,\" Prince Frederik said.\"\"\"\n",
        "\n",
        "\n"
      ],
      "metadata": {
        "id": "n3ypawjycCca"
      },
      "execution_count": null,
      "outputs": []
    },
    {
      "cell_type": "code",
      "source": [
        "# Generating summary for a test article taken from BBC News Dataset\n",
        "\n",
        "outputs = learn.blurr_generate(article, key=\"summary_texts\", num_return_sequences=3)\n",
        "outputs"
      ],
      "metadata": {
        "colab": {
          "base_uri": "https://localhost:8080/"
        },
        "id": "cyVk2Oofc6Rq",
        "outputId": "7601404d-6428-49b4-9b2c-9158ac63b8be"
      },
      "execution_count": null,
      "outputs": [
        {
          "output_type": "execute_result",
          "data": {
            "text/plain": [
              "[{'summary_texts': [\" Denmark is celebrating the bicentennial of the birth of Hans Christian Andersen .\\nA three-day celebration will include a concert at Parken stadium on 2 April .\\nOther stars are expected to join the line-up in the coming months .\\nDenmark's Crown Prince Frederik and Crown Princess Mary visited New York on Monday .\",\n",
              "   \" Denmark is celebrating the bicentennial of the birth of Hans Christian Andersen .\\nA three-day celebration will include a concert at Parken stadium on 2 April .\\nOther stars are expected to join the line-up in the coming months .\\nDenmark's Crown Prince Frederik and Crown Princess Mary visited New York to promote the festivities .\",\n",
              "   \" Denmark is celebrating the bicentennial of the birth of Hans Christian Andersen .\\nA three-day celebration will include a concert at Parken stadium on 2 April .\\nOther stars are expected to join the line-up in the coming months .\\nDenmark's Crown Prince Frederik and Crown Princess Mary visited the Hans Christian Anderson School complex .\"]}]"
            ]
          },
          "metadata": {},
          "execution_count": 121
        }
      ]
    },
    {
      "cell_type": "markdown",
      "source": [
        "** 2 Lex Rank Algorithm **\n",
        "\n",
        " An extractive-based text summarization technique is the Lex Rank Algorithm. A sentence that is identical to \n",
        "numerous other sentences in the text has a high probability of being significant according to the Lex Rank algorithm. \n",
        "A sentence is ranked higher when it is suggested by other sentences that are like it. Central to this method's \n",
        "foundation is Eigen Vector. It adopts a linked graph methodology. Vertices of the graph are where sentences are \n",
        "inserted. An edge weight is determined by applying a cosine similarity metric to the edges"
      ],
      "metadata": {
        "id": "tFVtMUfqNqdW"
      }
    },
    {
      "cell_type": "code",
      "source": [
        "import math\n",
        "import nltk\n",
        "nltk.download('punkt')\n",
        "nltk.download('stopwords')\n",
        "\n",
        "from nltk import sent_tokenize, word_tokenize, PorterStemmer\n",
        "from nltk.corpus import stopwords\n",
        "import numpy"
      ],
      "metadata": {
        "colab": {
          "base_uri": "https://localhost:8080/"
        },
        "id": "LSjo36MINIq2",
        "outputId": "7457ef7a-f2a1-4aec-f25d-01307f82b8c6"
      },
      "execution_count": 1,
      "outputs": [
        {
          "output_type": "stream",
          "name": "stderr",
          "text": [
            "[nltk_data] Downloading package punkt to /root/nltk_data...\n",
            "[nltk_data]   Unzipping tokenizers/punkt.zip.\n",
            "[nltk_data] Downloading package stopwords to /root/nltk_data...\n",
            "[nltk_data]   Unzipping corpora/stopwords.zip.\n"
          ]
        }
      ]
    },
    {
      "cell_type": "code",
      "source": [
        "# 0.23 txt from bbc_politics \n",
        "\n",
        "original=''' E-University 'disgraceful waste'\n",
        "\n",
        "A failed government scheme to offer UK university courses online has been branded a \"disgraceful waste\" by MPs.\n",
        "\n",
        "The e-University was scrapped last year, having attracted only 900 students at a cost of £50m. Chief executive John Beaumont was paid a bonus of £44,914, despite a failure to bring in private sector backers. The Commons education select committee called this \"morally indefensible\" but the government said the e-University project had \"improved understanding\".\n",
        "\n",
        "A Department for Education and Skills spokeswoman said the venture had been \"ambitious and ground-breaking, but take-up had not been \"sufficient to continue with the project\". She added: \"UK e-Universities was not the only organisation to have lost out on private sector investment in the collapse of the dotcom boom.\" The select committee found that those responsible for founding the e-University in 2000 had been caught up in the \"general atmosphere of enthusiasm\" surrounding the internet. Initial business plans forecast a quarter of a million students joining within a decade, bringing in at least £110m in profit.\n",
        "\n",
        "But virtually no market research was carried out and just £4.2m was spent on worldwide sales and marketing of courses. Some £14m went on developing the technology to make the e-University work. This was used by just 200 students, the rest preferring to work through existing university websites. With no significant private investors and no direct accountability to a government minister, the e-University had had \"too much freedom to spend public money as it wished\", the report found. Committee chairman Barry Sheerman said: \"UK e-University was a terrible waste of public money. \"The senior executives failed to interest any private investors and showed an extraordinary over-confidence in their ability to attract students to the scheme.\" The report warns that the government should not be scared off investment in innovative but potentially risky schemes by the failure of the e-University, but \"should learn the lessons from this disaster\".'''\n"
      ],
      "metadata": {
        "id": "G0wNXaL6N1ij"
      },
      "execution_count": 2,
      "outputs": []
    },
    {
      "cell_type": "code",
      "source": [
        "threshold = 0.1\n",
        "epsilon = 0.1\n",
        "stopWords = set(stopwords.words(\"english\"))\n",
        "sentences = sent_tokenize(original) \n",
        "ts = len(sentences)\n",
        "print(sentences)\n",
        "print(ts)"
      ],
      "metadata": {
        "colab": {
          "base_uri": "https://localhost:8080/"
        },
        "id": "0Yag5PhiN5SC",
        "outputId": "ca1827d9-8410-4541-c8b6-4d528da5de29"
      },
      "execution_count": 3,
      "outputs": [
        {
          "output_type": "stream",
          "name": "stdout",
          "text": [
            "[' E-University \\'disgraceful waste\\'\\n\\nA failed government scheme to offer UK university courses online has been branded a \"disgraceful waste\" by MPs.', 'The e-University was scrapped last year, having attracted only 900 students at a cost of £50m.', 'Chief executive John Beaumont was paid a bonus of £44,914, despite a failure to bring in private sector backers.', 'The Commons education select committee called this \"morally indefensible\" but the government said the e-University project had \"improved understanding\".', 'A Department for Education and Skills spokeswoman said the venture had been \"ambitious and ground-breaking, but take-up had not been \"sufficient to continue with the project\".', 'She added: \"UK e-Universities was not the only organisation to have lost out on private sector investment in the collapse of the dotcom boom.\"', 'The select committee found that those responsible for founding the e-University in 2000 had been caught up in the \"general atmosphere of enthusiasm\" surrounding the internet.', 'Initial business plans forecast a quarter of a million students joining within a decade, bringing in at least £110m in profit.', 'But virtually no market research was carried out and just £4.2m was spent on worldwide sales and marketing of courses.', 'Some £14m went on developing the technology to make the e-University work.', 'This was used by just 200 students, the rest preferring to work through existing university websites.', 'With no significant private investors and no direct accountability to a government minister, the e-University had had \"too much freedom to spend public money as it wished\", the report found.', 'Committee chairman Barry Sheerman said: \"UK e-University was a terrible waste of public money.', '\"The senior executives failed to interest any private investors and showed an extraordinary over-confidence in their ability to attract students to the scheme.\"', 'The report warns that the government should not be scared off investment in innovative but potentially risky schemes by the failure of the e-University, but \"should learn the lessons from this disaster\".']\n",
            "15\n"
          ]
        }
      ]
    },
    {
      "cell_type": "code",
      "source": [
        "f_mat = {}\n",
        "\n",
        "for i in sentences:\n",
        "    freq_table = {}\n",
        "    words = word_tokenize(i)\n",
        "    for j in words:\n",
        "        j = j.lower()\n",
        "        if j in stopWords:\n",
        "            continue\n",
        "        if j in freq_table:\n",
        "            freq_table[j] += 1\n",
        "        else:\n",
        "            freq_table[j] = 1\n",
        "\n",
        "    f_mat[i] = freq_table\n",
        "tf_matrix = {}\n",
        "counter = 0\n",
        "for x, y in f_mat.items():\n",
        "    tf_table = {}\n",
        "\n",
        "    count_words_in_sentence = len(y)\n",
        "    for word, count in y.items():\n",
        "        tf_table[word] = count / count_words_in_sentence\n",
        "\n",
        "    tf_matrix[counter] = tf_table\n",
        "    counter = counter+1\n",
        "print(tf_matrix)"
      ],
      "metadata": {
        "colab": {
          "base_uri": "https://localhost:8080/"
        },
        "id": "ZQ38CX0wN-M_",
        "outputId": "b0a6a380-7cfd-4ffb-cf0c-d98f1405e6e2"
      },
      "execution_count": 4,
      "outputs": [
        {
          "output_type": "stream",
          "name": "stdout",
          "text": [
            "{0: {'e-university': 0.05555555555555555, \"'disgraceful\": 0.05555555555555555, \"waste'\": 0.05555555555555555, 'failed': 0.05555555555555555, 'government': 0.05555555555555555, 'scheme': 0.05555555555555555, 'offer': 0.05555555555555555, 'uk': 0.05555555555555555, 'university': 0.05555555555555555, 'courses': 0.05555555555555555, 'online': 0.05555555555555555, 'branded': 0.05555555555555555, '``': 0.05555555555555555, 'disgraceful': 0.05555555555555555, 'waste': 0.05555555555555555, \"''\": 0.05555555555555555, 'mps': 0.05555555555555555, '.': 0.05555555555555555}, 1: {'e-university': 0.09090909090909091, 'scrapped': 0.09090909090909091, 'last': 0.09090909090909091, 'year': 0.09090909090909091, ',': 0.09090909090909091, 'attracted': 0.09090909090909091, '900': 0.09090909090909091, 'students': 0.09090909090909091, 'cost': 0.09090909090909091, '£50m': 0.09090909090909091, '.': 0.09090909090909091}, 2: {'chief': 0.06666666666666667, 'executive': 0.06666666666666667, 'john': 0.06666666666666667, 'beaumont': 0.06666666666666667, 'paid': 0.06666666666666667, 'bonus': 0.06666666666666667, '£44,914': 0.06666666666666667, ',': 0.06666666666666667, 'despite': 0.06666666666666667, 'failure': 0.06666666666666667, 'bring': 0.06666666666666667, 'private': 0.06666666666666667, 'sector': 0.06666666666666667, 'backers': 0.06666666666666667, '.': 0.06666666666666667}, 3: {'commons': 0.0625, 'education': 0.0625, 'select': 0.0625, 'committee': 0.0625, 'called': 0.0625, '``': 0.125, 'morally': 0.0625, 'indefensible': 0.0625, \"''\": 0.125, 'government': 0.0625, 'said': 0.0625, 'e-university': 0.0625, 'project': 0.0625, 'improved': 0.0625, 'understanding': 0.0625, '.': 0.0625}, 4: {'department': 0.0625, 'education': 0.0625, 'skills': 0.0625, 'spokeswoman': 0.0625, 'said': 0.0625, 'venture': 0.0625, '``': 0.125, 'ambitious': 0.0625, 'ground-breaking': 0.0625, ',': 0.0625, 'take-up': 0.0625, 'sufficient': 0.0625, 'continue': 0.0625, 'project': 0.0625, \"''\": 0.0625, '.': 0.0625}, 5: {'added': 0.06666666666666667, ':': 0.06666666666666667, '``': 0.06666666666666667, 'uk': 0.06666666666666667, 'e-universities': 0.06666666666666667, 'organisation': 0.06666666666666667, 'lost': 0.06666666666666667, 'private': 0.06666666666666667, 'sector': 0.06666666666666667, 'investment': 0.06666666666666667, 'collapse': 0.06666666666666667, 'dotcom': 0.06666666666666667, 'boom': 0.06666666666666667, '.': 0.06666666666666667, \"''\": 0.06666666666666667}, 6: {'select': 0.0625, 'committee': 0.0625, 'found': 0.0625, 'responsible': 0.0625, 'founding': 0.0625, 'e-university': 0.0625, '2000': 0.0625, 'caught': 0.0625, '``': 0.0625, 'general': 0.0625, 'atmosphere': 0.0625, 'enthusiasm': 0.0625, \"''\": 0.0625, 'surrounding': 0.0625, 'internet': 0.0625, '.': 0.0625}, 7: {'initial': 0.0625, 'business': 0.0625, 'plans': 0.0625, 'forecast': 0.0625, 'quarter': 0.0625, 'million': 0.0625, 'students': 0.0625, 'joining': 0.0625, 'within': 0.0625, 'decade': 0.0625, ',': 0.0625, 'bringing': 0.0625, 'least': 0.0625, '£110m': 0.0625, 'profit': 0.0625, '.': 0.0625}, 8: {'virtually': 0.09090909090909091, 'market': 0.09090909090909091, 'research': 0.09090909090909091, 'carried': 0.09090909090909091, '£4.2m': 0.09090909090909091, 'spent': 0.09090909090909091, 'worldwide': 0.09090909090909091, 'sales': 0.09090909090909091, 'marketing': 0.09090909090909091, 'courses': 0.09090909090909091, '.': 0.09090909090909091}, 9: {'£14m': 0.125, 'went': 0.125, 'developing': 0.125, 'technology': 0.125, 'make': 0.125, 'e-university': 0.125, 'work': 0.125, '.': 0.125}, 10: {'used': 0.09090909090909091, '200': 0.09090909090909091, 'students': 0.09090909090909091, ',': 0.09090909090909091, 'rest': 0.09090909090909091, 'preferring': 0.09090909090909091, 'work': 0.09090909090909091, 'existing': 0.09090909090909091, 'university': 0.09090909090909091, 'websites': 0.09090909090909091, '.': 0.09090909090909091}, 11: {'significant': 0.05, 'private': 0.05, 'investors': 0.05, 'direct': 0.05, 'accountability': 0.05, 'government': 0.05, 'minister': 0.05, ',': 0.1, 'e-university': 0.05, '``': 0.05, 'much': 0.05, 'freedom': 0.05, 'spend': 0.05, 'public': 0.05, 'money': 0.05, 'wished': 0.05, \"''\": 0.05, 'report': 0.05, 'found': 0.05, '.': 0.05}, 12: {'committee': 0.07142857142857142, 'chairman': 0.07142857142857142, 'barry': 0.07142857142857142, 'sheerman': 0.07142857142857142, 'said': 0.07142857142857142, ':': 0.07142857142857142, '``': 0.07142857142857142, 'uk': 0.07142857142857142, 'e-university': 0.07142857142857142, 'terrible': 0.07142857142857142, 'waste': 0.07142857142857142, 'public': 0.07142857142857142, 'money': 0.07142857142857142, '.': 0.07142857142857142}, 13: {'``': 0.0625, 'senior': 0.0625, 'executives': 0.0625, 'failed': 0.0625, 'interest': 0.0625, 'private': 0.0625, 'investors': 0.0625, 'showed': 0.0625, 'extraordinary': 0.0625, 'over-confidence': 0.0625, 'ability': 0.0625, 'attract': 0.0625, 'students': 0.0625, 'scheme': 0.0625, '.': 0.0625, \"''\": 0.0625}, 14: {'report': 0.05555555555555555, 'warns': 0.05555555555555555, 'government': 0.05555555555555555, 'scared': 0.05555555555555555, 'investment': 0.05555555555555555, 'innovative': 0.05555555555555555, 'potentially': 0.05555555555555555, 'risky': 0.05555555555555555, 'schemes': 0.05555555555555555, 'failure': 0.05555555555555555, 'e-university': 0.05555555555555555, ',': 0.05555555555555555, '``': 0.05555555555555555, 'learn': 0.05555555555555555, 'lessons': 0.05555555555555555, 'disaster': 0.05555555555555555, \"''\": 0.05555555555555555, '.': 0.05555555555555555}}\n"
          ]
        }
      ]
    },
    {
      "cell_type": "code",
      "source": [
        "word_per_doc_table = {}\n",
        "\n",
        "for x, y in f_mat.items():\n",
        "    for word, count in y.items():\n",
        "        if word in word_per_doc_table:\n",
        "            word_per_doc_table[word] += 1\n",
        "        else:\n",
        "            word_per_doc_table[word] = 1\n",
        "idf_matrix = {}\n",
        "idf_table = {}\n",
        "for sent, f_table in f_mat.items():\n",
        "\n",
        "    for word in f_table.keys():\n",
        "      if word not in idf_table:\n",
        "        idf_table[word] = math.log10(ts / float(word_per_doc_table[word]))\n",
        "      else:\n",
        "        pass\n",
        "\n",
        "    idf_matrix[sent] = idf_table\n",
        "print(idf_table)"
      ],
      "metadata": {
        "colab": {
          "base_uri": "https://localhost:8080/"
        },
        "id": "7PZMIQzhOBcg",
        "outputId": "7fa066ad-ed32-4a85-fb34-14d7666a8b11"
      },
      "execution_count": 5,
      "outputs": [
        {
          "output_type": "stream",
          "name": "stdout",
          "text": [
            "{'e-university': 0.27300127206373764, \"'disgraceful\": 1.1760912590556813, \"waste'\": 1.1760912590556813, 'failed': 0.8750612633917001, 'government': 0.5740312677277188, 'scheme': 0.8750612633917001, 'offer': 1.1760912590556813, 'uk': 0.6989700043360189, 'university': 0.8750612633917001, 'courses': 0.8750612633917001, 'online': 1.1760912590556813, 'branded': 1.1760912590556813, '``': 0.22184874961635637, 'disgraceful': 1.1760912590556813, 'waste': 0.8750612633917001, \"''\": 0.27300127206373764, 'mps': 1.1760912590556813, '.': 0.0, 'scrapped': 1.1760912590556813, 'last': 1.1760912590556813, 'year': 1.1760912590556813, ',': 0.3309932190414244, 'attracted': 1.1760912590556813, '900': 1.1760912590556813, 'students': 0.5740312677277188, 'cost': 1.1760912590556813, '£50m': 1.1760912590556813, 'chief': 1.1760912590556813, 'executive': 1.1760912590556813, 'john': 1.1760912590556813, 'beaumont': 1.1760912590556813, 'paid': 1.1760912590556813, 'bonus': 1.1760912590556813, '£44,914': 1.1760912590556813, 'despite': 1.1760912590556813, 'failure': 0.8750612633917001, 'bring': 1.1760912590556813, 'private': 0.5740312677277188, 'sector': 0.8750612633917001, 'backers': 1.1760912590556813, 'commons': 1.1760912590556813, 'education': 0.8750612633917001, 'select': 0.8750612633917001, 'committee': 0.6989700043360189, 'called': 1.1760912590556813, 'morally': 1.1760912590556813, 'indefensible': 1.1760912590556813, 'said': 0.6989700043360189, 'project': 0.8750612633917001, 'improved': 1.1760912590556813, 'understanding': 1.1760912590556813, 'department': 1.1760912590556813, 'skills': 1.1760912590556813, 'spokeswoman': 1.1760912590556813, 'venture': 1.1760912590556813, 'ambitious': 1.1760912590556813, 'ground-breaking': 1.1760912590556813, 'take-up': 1.1760912590556813, 'sufficient': 1.1760912590556813, 'continue': 1.1760912590556813, 'added': 1.1760912590556813, ':': 0.8750612633917001, 'e-universities': 1.1760912590556813, 'organisation': 1.1760912590556813, 'lost': 1.1760912590556813, 'investment': 0.8750612633917001, 'collapse': 1.1760912590556813, 'dotcom': 1.1760912590556813, 'boom': 1.1760912590556813, 'found': 0.8750612633917001, 'responsible': 1.1760912590556813, 'founding': 1.1760912590556813, '2000': 1.1760912590556813, 'caught': 1.1760912590556813, 'general': 1.1760912590556813, 'atmosphere': 1.1760912590556813, 'enthusiasm': 1.1760912590556813, 'surrounding': 1.1760912590556813, 'internet': 1.1760912590556813, 'initial': 1.1760912590556813, 'business': 1.1760912590556813, 'plans': 1.1760912590556813, 'forecast': 1.1760912590556813, 'quarter': 1.1760912590556813, 'million': 1.1760912590556813, 'joining': 1.1760912590556813, 'within': 1.1760912590556813, 'decade': 1.1760912590556813, 'bringing': 1.1760912590556813, 'least': 1.1760912590556813, '£110m': 1.1760912590556813, 'profit': 1.1760912590556813, 'virtually': 1.1760912590556813, 'market': 1.1760912590556813, 'research': 1.1760912590556813, 'carried': 1.1760912590556813, '£4.2m': 1.1760912590556813, 'spent': 1.1760912590556813, 'worldwide': 1.1760912590556813, 'sales': 1.1760912590556813, 'marketing': 1.1760912590556813, '£14m': 1.1760912590556813, 'went': 1.1760912590556813, 'developing': 1.1760912590556813, 'technology': 1.1760912590556813, 'make': 1.1760912590556813, 'work': 0.8750612633917001, 'used': 1.1760912590556813, '200': 1.1760912590556813, 'rest': 1.1760912590556813, 'preferring': 1.1760912590556813, 'existing': 1.1760912590556813, 'websites': 1.1760912590556813, 'significant': 1.1760912590556813, 'investors': 0.8750612633917001, 'direct': 1.1760912590556813, 'accountability': 1.1760912590556813, 'minister': 1.1760912590556813, 'much': 1.1760912590556813, 'freedom': 1.1760912590556813, 'spend': 1.1760912590556813, 'public': 0.8750612633917001, 'money': 0.8750612633917001, 'wished': 1.1760912590556813, 'report': 0.8750612633917001, 'chairman': 1.1760912590556813, 'barry': 1.1760912590556813, 'sheerman': 1.1760912590556813, 'terrible': 1.1760912590556813, 'senior': 1.1760912590556813, 'executives': 1.1760912590556813, 'interest': 1.1760912590556813, 'showed': 1.1760912590556813, 'extraordinary': 1.1760912590556813, 'over-confidence': 1.1760912590556813, 'ability': 1.1760912590556813, 'attract': 1.1760912590556813, 'warns': 1.1760912590556813, 'scared': 1.1760912590556813, 'innovative': 1.1760912590556813, 'potentially': 1.1760912590556813, 'risky': 1.1760912590556813, 'schemes': 1.1760912590556813, 'learn': 1.1760912590556813, 'lessons': 1.1760912590556813, 'disaster': 1.1760912590556813}\n"
          ]
        }
      ]
    },
    {
      "cell_type": "code",
      "source": [
        "matrix = numpy.zeros((ts, ts))\n",
        "print(matrix)"
      ],
      "metadata": {
        "colab": {
          "base_uri": "https://localhost:8080/"
        },
        "id": "MG7GAec9OE8N",
        "outputId": "3d14fdee-0511-430c-f87f-a486f737b831"
      },
      "execution_count": 6,
      "outputs": [
        {
          "output_type": "stream",
          "name": "stdout",
          "text": [
            "[[0. 0. 0. 0. 0. 0. 0. 0. 0. 0. 0. 0. 0. 0. 0.]\n",
            " [0. 0. 0. 0. 0. 0. 0. 0. 0. 0. 0. 0. 0. 0. 0.]\n",
            " [0. 0. 0. 0. 0. 0. 0. 0. 0. 0. 0. 0. 0. 0. 0.]\n",
            " [0. 0. 0. 0. 0. 0. 0. 0. 0. 0. 0. 0. 0. 0. 0.]\n",
            " [0. 0. 0. 0. 0. 0. 0. 0. 0. 0. 0. 0. 0. 0. 0.]\n",
            " [0. 0. 0. 0. 0. 0. 0. 0. 0. 0. 0. 0. 0. 0. 0.]\n",
            " [0. 0. 0. 0. 0. 0. 0. 0. 0. 0. 0. 0. 0. 0. 0.]\n",
            " [0. 0. 0. 0. 0. 0. 0. 0. 0. 0. 0. 0. 0. 0. 0.]\n",
            " [0. 0. 0. 0. 0. 0. 0. 0. 0. 0. 0. 0. 0. 0. 0.]\n",
            " [0. 0. 0. 0. 0. 0. 0. 0. 0. 0. 0. 0. 0. 0. 0.]\n",
            " [0. 0. 0. 0. 0. 0. 0. 0. 0. 0. 0. 0. 0. 0. 0.]\n",
            " [0. 0. 0. 0. 0. 0. 0. 0. 0. 0. 0. 0. 0. 0. 0.]\n",
            " [0. 0. 0. 0. 0. 0. 0. 0. 0. 0. 0. 0. 0. 0. 0.]\n",
            " [0. 0. 0. 0. 0. 0. 0. 0. 0. 0. 0. 0. 0. 0. 0.]\n",
            " [0. 0. 0. 0. 0. 0. 0. 0. 0. 0. 0. 0. 0. 0. 0.]]\n"
          ]
        }
      ]
    },
    {
      "cell_type": "code",
      "source": [
        "s = {}\n",
        "for i in range(ts):\n",
        "  s[i]=sentences[i]\n",
        "stop_words = set(stopwords.words(\"english\"))\n",
        "for i in range(ts):\n",
        "  for j in range(ts):\n",
        "    u1 = word_tokenize(s[i]) \n",
        "    u1 = [word for word in u1 if word.isalpha()]\n",
        "    u1 = [word for word in u1 if word not in stop_words]\n",
        "    u1 = [element.lower() for element in u1]\n",
        "    u2 = word_tokenize(s[j]) \n",
        "    u2 = [word for word in u2 if word.isalpha()]\n",
        "    u2 = [word for word in u2 if word not in stop_words]\n",
        "    u2 = [element.lower() for element in u2]\n",
        "    common = list(set(u1) & set(u2))\n",
        "    d1=0\n",
        "    d2=0\n",
        "    n=0.0\n",
        "    for t in u1:\n",
        "      if t in tf_matrix[i]:\n",
        "        tf1=tf_matrix[i][t]\n",
        "      else:\n",
        "        tf1=0\n",
        "      if t in idf_table:\n",
        "        idf1=idf_table[t]\n",
        "      else:\n",
        "        idf1=0\n",
        "      d1+=(tf1*idf1)**2\n",
        "    for t in u2:\n",
        "      if t in tf_matrix[j]:\n",
        "        tf2=tf_matrix[j][t]\n",
        "      else:\n",
        "        tf2=0\n",
        "      if t in idf_table:\n",
        "        idf2=idf_table[t]\n",
        "      else:\n",
        "        idf2=0\n",
        "      d2+=(tf2*idf2)**2\n",
        "    for t in common:\n",
        "      if t in tf_matrix[i]:\n",
        "        tfc1=tf_matrix[i][t]\n",
        "      else:\n",
        "        tfc1=0\n",
        "      if t in tf_matrix[j]:\n",
        "        tfc2=tf_matrix[j][t]\n",
        "      else:\n",
        "        tfc2=0\n",
        "      if t in idf_table:\n",
        "        idf=idf_table[t]\n",
        "      else:\n",
        "        idf=0\n",
        "      n+=tfc1*tfc2*idf**2\n",
        "    if d1 > 0 and d2 > 0:\n",
        "      matrix[i][j] =  n / (math.sqrt(d1) * math.sqrt(d2))\n",
        "    else:\n",
        "      matrix[i][j] = 0.0\n",
        "print(matrix)"
      ],
      "metadata": {
        "colab": {
          "base_uri": "https://localhost:8080/"
        },
        "id": "KHA6WAgnOHZc",
        "outputId": "f7a417b3-c39c-4629-e9ed-7dc6a4d25a50"
      },
      "execution_count": 7,
      "outputs": [
        {
          "output_type": "stream",
          "name": "stdout",
          "text": [
            "[[1.         0.         0.         0.02808756 0.         0.0440291\n",
            "  0.         0.         0.06546846 0.         0.07601097 0.0245715\n",
            "  0.12098443 0.12668607 0.02495784]\n",
            " [0.         1.         0.         0.         0.         0.\n",
            "  0.         0.02975348 0.         0.         0.0413206  0.\n",
            "  0.         0.03443414 0.        ]\n",
            " [0.         0.         1.         0.         0.         0.08872539\n",
            "  0.         0.         0.         0.         0.         0.02208747\n",
            "  0.         0.02450232 0.05213471]\n",
            " [0.02808756 0.         0.         1.         0.17115597 0.\n",
            "  0.10050201 0.         0.         0.         0.         0.02421773\n",
            "  0.09289232 0.         0.0245985 ]\n",
            " [0.         0.         0.         0.17115597 1.         0.\n",
            "  0.         0.         0.         0.         0.         0.\n",
            "  0.04684258 0.         0.        ]\n",
            " [0.0440291  0.         0.08872539 0.         0.         1.\n",
            "  0.         0.         0.         0.         0.         0.02560432\n",
            "  0.04910544 0.02840367 0.0604358 ]\n",
            " [0.         0.         0.         0.10050201 0.         0.\n",
            "  1.         0.         0.         0.         0.         0.05367486\n",
            "  0.04429774 0.         0.        ]\n",
            " [0.         0.02975348 0.         0.         0.         0.\n",
            "  0.         1.         0.         0.         0.02703333 0.\n",
            "  0.         0.02252797 0.        ]\n",
            " [0.06546846 0.         0.         0.         0.         0.\n",
            "  0.         0.         1.         0.         0.         0.\n",
            "  0.         0.         0.        ]\n",
            " [0.         0.         0.         0.         0.         0.\n",
            "  0.         0.         0.         1.         0.10298814 0.\n",
            "  0.         0.         0.        ]\n",
            " [0.07601097 0.0413206  0.         0.         0.         0.\n",
            "  0.         0.02703333 0.         0.10298814 1.         0.\n",
            "  0.         0.03128607 0.        ]\n",
            " [0.0245715  0.         0.02208747 0.02421773 0.         0.02560432\n",
            "  0.05367486 0.         0.         0.         0.         1.\n",
            "  0.12736712 0.07811819 0.07152636]\n",
            " [0.12098443 0.         0.         0.09289232 0.04684258 0.04910544\n",
            "  0.04429774 0.         0.         0.         0.         0.12736712\n",
            "  1.         0.         0.        ]\n",
            " [0.12668607 0.03443414 0.02450232 0.         0.         0.02840367\n",
            "  0.         0.02252797 0.         0.         0.03128607 0.07811819\n",
            "  0.         1.         0.        ]\n",
            " [0.02495784 0.         0.05213471 0.0245985  0.         0.0604358\n",
            "  0.         0.         0.         0.         0.         0.07152636\n",
            "  0.         0.         1.        ]]\n"
          ]
        }
      ]
    },
    {
      "cell_type": "code",
      "source": [
        "degrees = numpy.zeros((ts, ))\n",
        "for i in range(ts):\n",
        "  for j in range(ts):\n",
        "    if matrix[i, j] > threshold:\n",
        "      matrix[i, j] = 1.0\n",
        "      degrees[i] += 1\n",
        "    else:\n",
        "      matrix[i, j] = 0\n",
        "print(matrix)\n",
        "print(degrees)"
      ],
      "metadata": {
        "colab": {
          "base_uri": "https://localhost:8080/"
        },
        "id": "kLneLZphONEd",
        "outputId": "a14c460c-bbda-45cb-a1aa-ae2caeb577b8"
      },
      "execution_count": 8,
      "outputs": [
        {
          "output_type": "stream",
          "name": "stdout",
          "text": [
            "[[1. 0. 0. 0. 0. 0. 0. 0. 0. 0. 0. 0. 1. 1. 0.]\n",
            " [0. 1. 0. 0. 0. 0. 0. 0. 0. 0. 0. 0. 0. 0. 0.]\n",
            " [0. 0. 1. 0. 0. 0. 0. 0. 0. 0. 0. 0. 0. 0. 0.]\n",
            " [0. 0. 0. 1. 1. 0. 1. 0. 0. 0. 0. 0. 0. 0. 0.]\n",
            " [0. 0. 0. 1. 1. 0. 0. 0. 0. 0. 0. 0. 0. 0. 0.]\n",
            " [0. 0. 0. 0. 0. 1. 0. 0. 0. 0. 0. 0. 0. 0. 0.]\n",
            " [0. 0. 0. 1. 0. 0. 1. 0. 0. 0. 0. 0. 0. 0. 0.]\n",
            " [0. 0. 0. 0. 0. 0. 0. 1. 0. 0. 0. 0. 0. 0. 0.]\n",
            " [0. 0. 0. 0. 0. 0. 0. 0. 1. 0. 0. 0. 0. 0. 0.]\n",
            " [0. 0. 0. 0. 0. 0. 0. 0. 0. 1. 1. 0. 0. 0. 0.]\n",
            " [0. 0. 0. 0. 0. 0. 0. 0. 0. 1. 1. 0. 0. 0. 0.]\n",
            " [0. 0. 0. 0. 0. 0. 0. 0. 0. 0. 0. 1. 1. 0. 0.]\n",
            " [1. 0. 0. 0. 0. 0. 0. 0. 0. 0. 0. 1. 1. 0. 0.]\n",
            " [1. 0. 0. 0. 0. 0. 0. 0. 0. 0. 0. 0. 0. 1. 0.]\n",
            " [0. 0. 0. 0. 0. 0. 0. 0. 0. 0. 0. 0. 0. 0. 1.]]\n",
            "[3. 1. 1. 3. 2. 1. 2. 1. 1. 2. 2. 2. 3. 2. 1.]\n"
          ]
        }
      ]
    },
    {
      "cell_type": "code",
      "source": [
        "for i in range(ts):\n",
        "    for j in range(ts):\n",
        "        if degrees[i] == 0:\n",
        "            degrees[i] = 1\n",
        "\n",
        "        matrix[i][j] = matrix[i][j] / degrees[i]\n",
        "print(matrix)"
      ],
      "metadata": {
        "colab": {
          "base_uri": "https://localhost:8080/"
        },
        "id": "SOM-8wSpOQuJ",
        "outputId": "9d436212-181c-4b9c-f8bc-cecf1e7f4777"
      },
      "execution_count": 9,
      "outputs": [
        {
          "output_type": "stream",
          "name": "stdout",
          "text": [
            "[[0.33333333 0.         0.         0.         0.         0.\n",
            "  0.         0.         0.         0.         0.         0.\n",
            "  0.33333333 0.33333333 0.        ]\n",
            " [0.         1.         0.         0.         0.         0.\n",
            "  0.         0.         0.         0.         0.         0.\n",
            "  0.         0.         0.        ]\n",
            " [0.         0.         1.         0.         0.         0.\n",
            "  0.         0.         0.         0.         0.         0.\n",
            "  0.         0.         0.        ]\n",
            " [0.         0.         0.         0.33333333 0.33333333 0.\n",
            "  0.33333333 0.         0.         0.         0.         0.\n",
            "  0.         0.         0.        ]\n",
            " [0.         0.         0.         0.5        0.5        0.\n",
            "  0.         0.         0.         0.         0.         0.\n",
            "  0.         0.         0.        ]\n",
            " [0.         0.         0.         0.         0.         1.\n",
            "  0.         0.         0.         0.         0.         0.\n",
            "  0.         0.         0.        ]\n",
            " [0.         0.         0.         0.5        0.         0.\n",
            "  0.5        0.         0.         0.         0.         0.\n",
            "  0.         0.         0.        ]\n",
            " [0.         0.         0.         0.         0.         0.\n",
            "  0.         1.         0.         0.         0.         0.\n",
            "  0.         0.         0.        ]\n",
            " [0.         0.         0.         0.         0.         0.\n",
            "  0.         0.         1.         0.         0.         0.\n",
            "  0.         0.         0.        ]\n",
            " [0.         0.         0.         0.         0.         0.\n",
            "  0.         0.         0.         0.5        0.5        0.\n",
            "  0.         0.         0.        ]\n",
            " [0.         0.         0.         0.         0.         0.\n",
            "  0.         0.         0.         0.5        0.5        0.\n",
            "  0.         0.         0.        ]\n",
            " [0.         0.         0.         0.         0.         0.\n",
            "  0.         0.         0.         0.         0.         0.5\n",
            "  0.5        0.         0.        ]\n",
            " [0.33333333 0.         0.         0.         0.         0.\n",
            "  0.         0.         0.         0.         0.         0.33333333\n",
            "  0.33333333 0.         0.        ]\n",
            " [0.5        0.         0.         0.         0.         0.\n",
            "  0.         0.         0.         0.         0.         0.\n",
            "  0.         0.5        0.        ]\n",
            " [0.         0.         0.         0.         0.         0.\n",
            "  0.         0.         0.         0.         0.         0.\n",
            "  0.         0.         1.        ]]\n"
          ]
        }
      ]
    },
    {
      "cell_type": "code",
      "source": [
        "transposed_matrix = matrix.T\n",
        "\n",
        "p_vector = numpy.array([1.0 / ts] * ts)\n",
        "\n",
        "lamb = 1.0\n",
        "\n",
        "while lamb > epsilon:\n",
        "  next_p = numpy.dot(transposed_matrix, p_vector)\n",
        "  lamb = numpy.linalg.norm(numpy.subtract(next_p, p_vector))\n",
        "  p_vector = next_p\n",
        "print(p_vector)"
      ],
      "metadata": {
        "colab": {
          "base_uri": "https://localhost:8080/"
        },
        "id": "P59wv-cPOWpD",
        "outputId": "1281bd25-5379-4b7b-9923-a7ae63887271"
      },
      "execution_count": 10,
      "outputs": [
        {
          "output_type": "stream",
          "name": "stdout",
          "text": [
            "[0.07777778 0.06666667 0.06666667 0.08888889 0.05555556 0.06666667\n",
            " 0.05555556 0.06666667 0.06666667 0.06666667 0.06666667 0.05555556\n",
            " 0.07777778 0.05555556 0.06666667]\n"
          ]
        }
      ]
    },
    {
      "cell_type": "code",
      "source": [
        "avg = numpy.sum(p_vector) / len(p_vector)\n",
        "print(avg)"
      ],
      "metadata": {
        "colab": {
          "base_uri": "https://localhost:8080/"
        },
        "id": "FvvuvhWDOYK8",
        "outputId": "750b4250-ca95-40ea-9a78-e8fd8eceab4a"
      },
      "execution_count": 11,
      "outputs": [
        {
          "output_type": "stream",
          "name": "stdout",
          "text": [
            "0.06666666666666667\n"
          ]
        }
      ]
    },
    {
      "cell_type": "code",
      "source": [
        "for i in range(ts):\n",
        "  if(p_vector[i]>=avg):\n",
        "    print(s[i])"
      ],
      "metadata": {
        "colab": {
          "base_uri": "https://localhost:8080/"
        },
        "id": "3fPEZ_3LOcOK",
        "outputId": "bfa46795-8e28-4822-e123-409e21912d04"
      },
      "execution_count": 12,
      "outputs": [
        {
          "output_type": "stream",
          "name": "stdout",
          "text": [
            " E-University 'disgraceful waste'\n",
            "\n",
            "A failed government scheme to offer UK university courses online has been branded a \"disgraceful waste\" by MPs.\n",
            "The e-University was scrapped last year, having attracted only 900 students at a cost of £50m.\n",
            "Chief executive John Beaumont was paid a bonus of £44,914, despite a failure to bring in private sector backers.\n",
            "The Commons education select committee called this \"morally indefensible\" but the government said the e-University project had \"improved understanding\".\n",
            "She added: \"UK e-Universities was not the only organisation to have lost out on private sector investment in the collapse of the dotcom boom.\"\n",
            "Initial business plans forecast a quarter of a million students joining within a decade, bringing in at least £110m in profit.\n",
            "But virtually no market research was carried out and just £4.2m was spent on worldwide sales and marketing of courses.\n",
            "Some £14m went on developing the technology to make the e-University work.\n",
            "This was used by just 200 students, the rest preferring to work through existing university websites.\n",
            "Committee chairman Barry Sheerman said: \"UK e-University was a terrible waste of public money.\n",
            "The report warns that the government should not be scared off investment in innovative but potentially risky schemes by the failure of the e-University, but \"should learn the lessons from this disaster\".\n"
          ]
        }
      ]
    },
    {
      "cell_type": "code",
      "source": [
        "pip install sumy"
      ],
      "metadata": {
        "colab": {
          "base_uri": "https://localhost:8080/"
        },
        "id": "Gj5KzcRCOfOI",
        "outputId": "6f2324f4-04b3-4b61-89ed-5037abcd43b6"
      },
      "execution_count": 13,
      "outputs": [
        {
          "output_type": "stream",
          "name": "stdout",
          "text": [
            "Looking in indexes: https://pypi.org/simple, https://us-python.pkg.dev/colab-wheels/public/simple/\n",
            "Collecting sumy\n",
            "  Downloading sumy-0.11.0-py2.py3-none-any.whl (97 kB)\n",
            "\u001b[?25l\r\u001b[K     |███▍                            | 10 kB 26.6 MB/s eta 0:00:01\r\u001b[K     |██████▊                         | 20 kB 6.7 MB/s eta 0:00:01\r\u001b[K     |██████████                      | 30 kB 9.6 MB/s eta 0:00:01\r\u001b[K     |█████████████▌                  | 40 kB 4.1 MB/s eta 0:00:01\r\u001b[K     |████████████████▉               | 51 kB 4.1 MB/s eta 0:00:01\r\u001b[K     |████████████████████▏           | 61 kB 4.9 MB/s eta 0:00:01\r\u001b[K     |███████████████████████▋        | 71 kB 5.4 MB/s eta 0:00:01\r\u001b[K     |███████████████████████████     | 81 kB 5.5 MB/s eta 0:00:01\r\u001b[K     |██████████████████████████████▎ | 92 kB 6.1 MB/s eta 0:00:01\r\u001b[K     |████████████████████████████████| 97 kB 3.7 MB/s \n",
            "\u001b[?25hRequirement already satisfied: requests>=2.7.0 in /usr/local/lib/python3.8/dist-packages (from sumy) (2.23.0)\n",
            "Collecting docopt<0.7,>=0.6.1\n",
            "  Downloading docopt-0.6.2.tar.gz (25 kB)\n",
            "Collecting breadability>=0.1.20\n",
            "  Downloading breadability-0.1.20.tar.gz (32 kB)\n",
            "Requirement already satisfied: nltk>=3.0.2 in /usr/local/lib/python3.8/dist-packages (from sumy) (3.7)\n",
            "Collecting pycountry>=18.2.23\n",
            "  Downloading pycountry-22.3.5.tar.gz (10.1 MB)\n",
            "\u001b[K     |████████████████████████████████| 10.1 MB 29.3 MB/s \n",
            "\u001b[?25h  Installing build dependencies ... \u001b[?25l\u001b[?25hdone\n",
            "  Getting requirements to build wheel ... \u001b[?25l\u001b[?25hdone\n",
            "    Preparing wheel metadata ... \u001b[?25l\u001b[?25hdone\n",
            "Requirement already satisfied: chardet in /usr/local/lib/python3.8/dist-packages (from breadability>=0.1.20->sumy) (3.0.4)\n",
            "Requirement already satisfied: lxml>=2.0 in /usr/local/lib/python3.8/dist-packages (from breadability>=0.1.20->sumy) (4.9.1)\n",
            "Requirement already satisfied: regex>=2021.8.3 in /usr/local/lib/python3.8/dist-packages (from nltk>=3.0.2->sumy) (2022.6.2)\n",
            "Requirement already satisfied: click in /usr/local/lib/python3.8/dist-packages (from nltk>=3.0.2->sumy) (7.1.2)\n",
            "Requirement already satisfied: joblib in /usr/local/lib/python3.8/dist-packages (from nltk>=3.0.2->sumy) (1.2.0)\n",
            "Requirement already satisfied: tqdm in /usr/local/lib/python3.8/dist-packages (from nltk>=3.0.2->sumy) (4.64.1)\n",
            "Requirement already satisfied: setuptools in /usr/local/lib/python3.8/dist-packages (from pycountry>=18.2.23->sumy) (57.4.0)\n",
            "Requirement already satisfied: idna<3,>=2.5 in /usr/local/lib/python3.8/dist-packages (from requests>=2.7.0->sumy) (2.10)\n",
            "Requirement already satisfied: certifi>=2017.4.17 in /usr/local/lib/python3.8/dist-packages (from requests>=2.7.0->sumy) (2022.9.24)\n",
            "Requirement already satisfied: urllib3!=1.25.0,!=1.25.1,<1.26,>=1.21.1 in /usr/local/lib/python3.8/dist-packages (from requests>=2.7.0->sumy) (1.24.3)\n",
            "Building wheels for collected packages: breadability, docopt, pycountry\n",
            "  Building wheel for breadability (setup.py) ... \u001b[?25l\u001b[?25hdone\n",
            "  Created wheel for breadability: filename=breadability-0.1.20-py2.py3-none-any.whl size=21714 sha256=680df962b8f186159dea7d63fcf277ae78a53d53a98c37d8c6e3802c67fb362e\n",
            "  Stored in directory: /root/.cache/pip/wheels/5f/0d/0c/2062d8c1758b4b1a2e42b4a63e6660d9ec2ba9463cfee9eeab\n",
            "  Building wheel for docopt (setup.py) ... \u001b[?25l\u001b[?25hdone\n",
            "  Created wheel for docopt: filename=docopt-0.6.2-py2.py3-none-any.whl size=13723 sha256=da3c0a16bdaeb5572e8ca6fda3bc943d9f824c85f987b530126ad7e8b112f5c6\n",
            "  Stored in directory: /root/.cache/pip/wheels/56/ea/58/ead137b087d9e326852a851351d1debf4ada529b6ac0ec4e8c\n",
            "  Building wheel for pycountry (PEP 517) ... \u001b[?25l\u001b[?25hdone\n",
            "  Created wheel for pycountry: filename=pycountry-22.3.5-py2.py3-none-any.whl size=10681845 sha256=92ee39737b809a8e20bdab22de9d7f6815e3aeafd30736fcde69424dded30e2e\n",
            "  Stored in directory: /root/.cache/pip/wheels/e2/aa/0f/c224e473b464387170b83ca7c66947b4a7e33e8d903a679748\n",
            "Successfully built breadability docopt pycountry\n",
            "Installing collected packages: docopt, pycountry, breadability, sumy\n",
            "Successfully installed breadability-0.1.20 docopt-0.6.2 pycountry-22.3.5 sumy-0.11.0\n"
          ]
        }
      ]
    },
    {
      "cell_type": "code",
      "source": [
        "import numpy as np\n",
        "import os\n",
        "\n",
        "import sumy\n",
        "from textblob import TextBlob\n",
        "from sumy.parsers.plaintext import PlaintextParser\n",
        "from sumy.nlp.tokenizers import Tokenizer\n",
        "from sumy.summarizers.lex_rank import LexRankSummarizer\n",
        "from sumy.summarizers.text_rank import TextRankSummarizer\n",
        "from sumy.models.dom import Sentence\n",
        "from sumy.evaluation.rouge import rouge_1,rouge_2"
      ],
      "metadata": {
        "id": "Yc3LEBkIOm0t"
      },
      "execution_count": 14,
      "outputs": []
    },
    {
      "cell_type": "code",
      "source": [
        "ref = original\n",
        "reference  = []\n",
        "for i in ref:\n",
        "  reference.append(Sentence(i,Tokenizer('english')))\n"
      ],
      "metadata": {
        "id": "j9M65IRCOqJn"
      },
      "execution_count": 15,
      "outputs": []
    },
    {
      "cell_type": "code",
      "source": [
        "lines=[]\n",
        "with open(\"023.txt\", \"r\") as tm:\n",
        "\tlines = tm.readlines()\n",
        "\tprint(lines)"
      ],
      "metadata": {
        "colab": {
          "base_uri": "https://localhost:8080/"
        },
        "id": "3jmrESemOsqz",
        "outputId": "e4353c15-c2f0-4bf2-f43b-278c55a07b6d"
      },
      "execution_count": 17,
      "outputs": [
        {
          "output_type": "stream",
          "name": "stdout",
          "text": [
            "['Committee chairman Barry Sheerman said: \"UK e-University was a terrible waste of public money.The e-University was scrapped last year, having attracted only 900 students at a cost of £50m.The Commons education select committee called this \"morally indefensible\" but the government said the e-University project had \"improved understanding\".With no significant private investors and no direct accountability to a government minister, the e-University had had \"too much freedom to spend public money as it wished\", the report found.The report warns that the government should not be scared off investment in innovative but potentially risky schemes by the failure of the e-University, but \"should learn the lessons from this disaster\".She added: \"UK e-Universities was not the only organisation to have lost out on private sector investment in the collapse of the dotcom boom.\"']\n"
          ]
        }
      ]
    },
    {
      "cell_type": "code",
      "source": [
        "given_sum=[]\n",
        "for i in lines:\n",
        "  given_sum.append(Sentence(i,Tokenizer('english')))\n",
        "final=[]\n",
        "summary = ' '.join(list(s.values())[:5])\n",
        "for i in summary:\n",
        "  final.append(Sentence(i,Tokenizer('english')))\n",
        "given_sum=reference\n",
        "print(rouge_1(final,reference))"
      ],
      "metadata": {
        "colab": {
          "base_uri": "https://localhost:8080/"
        },
        "id": "Asgj7uzgO9hG",
        "outputId": "7609d6ec-5115-40d6-d05b-955a2c92e22f"
      },
      "execution_count": 18,
      "outputs": [
        {
          "output_type": "stream",
          "name": "stdout",
          "text": [
            "0.9230769230769231\n"
          ]
        }
      ]
    },
    {
      "cell_type": "markdown",
      "source": [
        "3. Text Rank Algorithm\n",
        "\n",
        "TextRank is an algorithm based on PageRank, which often used in keyword extraction and text summarization"
      ],
      "metadata": {
        "id": "75PcAzsePGwL"
      }
    },
    {
      "cell_type": "code",
      "source": [
        "import numpy as np\n",
        "import pandas as pd\n",
        "import nltk\n",
        "import re\n",
        "from nltk.corpus import stopwords\n",
        "from sumy.evaluation.rouge import rouge_1, rouge_2\n",
        "from sumy.models.dom import Sentence\n",
        "from sumy.nlp.tokenizers import Tokenizer\n",
        "import zipfile\n",
        "import string\n",
        "import os\n",
        "from nltk.tokenize import sent_tokenize\n",
        "\n",
        "with zipfile.ZipFile('bbc-news-summary.zip', 'r') as zip_ref:\n",
        "    zip_ref.extractall('')\n",
        "    \n",
        "nltk.download('punkt')\n",
        "\n",
        "politics_texts=os.listdir('bbc news summary/BBC News Summary/News Articles/politics')\n"
      ],
      "metadata": {
        "colab": {
          "base_uri": "https://localhost:8080/"
        },
        "id": "81mGe-QbPFbK",
        "outputId": "e86fc827-bdd2-4bb3-9e3d-37641ab0786b"
      },
      "execution_count": 19,
      "outputs": [
        {
          "output_type": "stream",
          "name": "stderr",
          "text": [
            "[nltk_data] Downloading package punkt to /root/nltk_data...\n",
            "[nltk_data]   Package punkt is already up-to-date!\n"
          ]
        }
      ]
    },
    {
      "cell_type": "code",
      "source": [
        "sentences = []\n",
        "root='bbc news summary/BBC News Summary/News Articles/politics'\n",
        "\n",
        "file_name = politics_texts[0]\n",
        "file_ = open(root+'/'+file_name, \"r\") \n",
        "\n",
        "politics_file = file_.read().replace('\\n', '.')\n",
        "politics_file = politics_file.split('.')\n",
        "\n",
        "for idx, sent in enumerate(politics_file):\n",
        "  if sent!='':\n",
        "        if sent[0].isdigit():\n",
        "          sentences[-1][0]+=sent_tokenize(sent)[0]\n",
        "        else:\n",
        "          sentences.append(sent_tokenize(sent))\n",
        "          \n",
        "print(sentences)"
      ],
      "metadata": {
        "colab": {
          "base_uri": "https://localhost:8080/"
        },
        "id": "bc8mxu12Q0QU",
        "outputId": "9dba63e7-01f0-48f6-ea18-c44978ba3e6d"
      },
      "execution_count": 20,
      "outputs": [
        {
          "output_type": "stream",
          "name": "stdout",
          "text": [
            "[['Tsunami debt deal to be announced'], ['Chancellor Gordon Brown has said he hopes to announce a deal to suspend debt interest repayments by tsunami-hit nations later on Friday'], ['The agreement by the G8 group of wealthy nations would save affected countries £3bn pounds a year, he said'], [' The deal is thought to have been hammered out on Thursday night after Japan, one of the biggest creditor nations, finally signed up to it'], [' Mr Brown first proposed the idea earlier this week'], ['G8 ministers are also believed to have agreed to instruct the World Bank and the International Monetary Fund to complete a country by country analysis of the reconstruction problems faced by all states hit by the disaster'], [' Mr Brown has been locked in talks with finance ministers of the G8, which Britain now chairs'], [' Germany also proposed a freeze and Canada has begun its own moratorium'], [' The expected deal comes as Foreign Secretary Jack Straw said the number of Britons dead or missing in the disaster have reached 440']]\n"
          ]
        }
      ]
    },
    {
      "cell_type": "code",
      "source": [
        "!wget http://nlp.stanford.edu/data/glove.6B.zip\n",
        "!unzip glove*.zip"
      ],
      "metadata": {
        "colab": {
          "base_uri": "https://localhost:8080/"
        },
        "id": "Rgf-kZvTQ4Rk",
        "outputId": "0f26b99e-5d60-4cb2-be9a-39d0a9eaaa3f"
      },
      "execution_count": 21,
      "outputs": [
        {
          "output_type": "stream",
          "name": "stdout",
          "text": [
            "--2022-12-12 02:57:08--  http://nlp.stanford.edu/data/glove.6B.zip\n",
            "Resolving nlp.stanford.edu (nlp.stanford.edu)... 171.64.67.140\n",
            "Connecting to nlp.stanford.edu (nlp.stanford.edu)|171.64.67.140|:80... connected.\n",
            "HTTP request sent, awaiting response... 302 Found\n",
            "Location: https://nlp.stanford.edu/data/glove.6B.zip [following]\n",
            "--2022-12-12 02:57:08--  https://nlp.stanford.edu/data/glove.6B.zip\n",
            "Connecting to nlp.stanford.edu (nlp.stanford.edu)|171.64.67.140|:443... connected.\n",
            "HTTP request sent, awaiting response... 301 Moved Permanently\n",
            "Location: https://downloads.cs.stanford.edu/nlp/data/glove.6B.zip [following]\n",
            "--2022-12-12 02:57:09--  https://downloads.cs.stanford.edu/nlp/data/glove.6B.zip\n",
            "Resolving downloads.cs.stanford.edu (downloads.cs.stanford.edu)... 171.64.64.22\n",
            "Connecting to downloads.cs.stanford.edu (downloads.cs.stanford.edu)|171.64.64.22|:443... connected.\n",
            "HTTP request sent, awaiting response... 200 OK\n",
            "Length: 862182613 (822M) [application/zip]\n",
            "Saving to: ‘glove.6B.zip’\n",
            "\n",
            "glove.6B.zip        100%[===================>] 822.24M  5.06MB/s    in 3m 4s   \n",
            "\n",
            "2022-12-12 03:00:14 (4.46 MB/s) - ‘glove.6B.zip’ saved [862182613/862182613]\n",
            "\n",
            "Archive:  glove.6B.zip\n",
            "  inflating: glove.6B.50d.txt        \n",
            "  inflating: glove.6B.100d.txt       \n",
            "  inflating: glove.6B.200d.txt       \n",
            "  inflating: glove.6B.300d.txt       \n"
          ]
        }
      ]
    },
    {
      "cell_type": "code",
      "source": [
        "stop_words = set(stopwords.words('english') + list(string.punctuation))"
      ],
      "metadata": {
        "id": "J-SkU9wMRvjU"
      },
      "execution_count": 22,
      "outputs": []
    },
    {
      "cell_type": "code",
      "source": [
        "def remove_stopwords(sentence):\n",
        "    sen_new = \" \".join([sent for sent in sentence if sent.lower() not in stop_words])\n",
        "    return sen_new"
      ],
      "metadata": {
        "id": "MXgWtsD6Ry-b"
      },
      "execution_count": 24,
      "outputs": []
    },
    {
      "cell_type": "code",
      "source": [
        "import re\n",
        "\n",
        "clean_sentences = []\n",
        "idx=0\n",
        "\n",
        "while idx < len(sentences):\n",
        "  sent = sentences[idx]\n",
        "  regex = re.compile('[^a-zA-Z]')\n",
        "  if len(sent)!=0:\n",
        "    clean_sentences.append(regex.sub(' ', sent[0]))\n",
        "    idx+=1\n",
        "  else:\n",
        "    del sentences[idx]\n",
        "\n",
        "clean_sentences = [remove_stopwords(r.split()) for r in clean_sentences]\n",
        "\n",
        "print(clean_sentences)"
      ],
      "metadata": {
        "colab": {
          "base_uri": "https://localhost:8080/"
        },
        "id": "iEyNGQUlR6Mk",
        "outputId": "5728b8a0-e854-4edf-a3d9-a780f8eb82ec"
      },
      "execution_count": 25,
      "outputs": [
        {
          "output_type": "stream",
          "name": "stdout",
          "text": [
            "['Tsunami debt deal announced', 'Chancellor Gordon Brown said hopes announce deal suspend debt interest repayments tsunami hit nations later Friday', 'agreement G group wealthy nations would save affected countries bn pounds year said', 'deal thought hammered Thursday night Japan one biggest creditor nations finally signed', 'Mr Brown first proposed idea earlier week', 'G ministers also believed agreed instruct World Bank International Monetary Fund complete country country analysis reconstruction problems faced states hit disaster', 'Mr Brown locked talks finance ministers G Britain chairs', 'Germany also proposed freeze Canada begun moratorium', 'expected deal comes Foreign Secretary Jack Straw said number Britons dead missing disaster reached']\n"
          ]
        }
      ]
    },
    {
      "cell_type": "code",
      "source": [
        "import numpy as np\n",
        "\n",
        "word_embeddings = {}\n",
        "\n",
        "f = open('glove.6B.100d.txt', encoding='utf-8')\n",
        "\n",
        "for line in f:\n",
        "    values = line.split()\n",
        "\n",
        "    word = values[0]\n",
        "\n",
        "    coefs = np.asarray(values[1:], dtype='float32')\n",
        "\n",
        "    word_embeddings[word] = coefs\n",
        "\n",
        "f.close()"
      ],
      "metadata": {
        "id": "y0R29bxqR9w_"
      },
      "execution_count": 26,
      "outputs": []
    },
    {
      "cell_type": "code",
      "source": [
        "politics_words={}\n",
        "for sent in clean_sentences:\n",
        "  if len(sent)!=0:        \n",
        "    for w in sent.split():\n",
        "      if w not in politics_words:\n",
        "        politics_words[w]=1\n",
        "      else:\n",
        "        politics_words[w]+=1\n",
        "        \n",
        "ps_words = pd.DataFrame.from_dict({'words':list(politics_words.keys()),'counts':list(politics_words.values()) })\n",
        "ps_words = ps_words.set_index('words')"
      ],
      "metadata": {
        "id": "pDPfqf4tSCWE"
      },
      "execution_count": 27,
      "outputs": []
    },
    {
      "cell_type": "code",
      "source": [
        "top_twenty_five=ps_words.nlargest(25, ['counts'])\n",
        "ax = top_twenty_five.plot.barh(x=None, y='counts', rot=0)"
      ],
      "metadata": {
        "colab": {
          "base_uri": "https://localhost:8080/",
          "height": 265
        },
        "id": "fNoizaFqSFHb",
        "outputId": "519d7c2c-19cd-4ca4-9985-e202d01e58a0"
      },
      "execution_count": 28,
      "outputs": [
        {
          "output_type": "display_data",
          "data": {
            "text/plain": [
              "<Figure size 432x288 with 1 Axes>"
            ],
            "image/png": "[encoded data removed]"
          },
          "metadata": {
            "needs_background": "light"
          }
        }
      ]
    },
    {
      "cell_type": "code",
      "source": [
        "from wordcloud import WordCloud\n",
        "import matplotlib.pyplot as plt\n",
        "\n",
        "word_cloud = WordCloud(width=900,height=500, max_words=1628,relative_scaling=1,normalize_plurals=False).generate_from_frequencies(politics_words)\n",
        "\n",
        "plt.imshow(word_cloud, interpolation='bilinear')\n",
        "plt.axis(\"off\")\n",
        "plt.show()"
      ],
      "metadata": {
        "colab": {
          "base_uri": "https://localhost:8080/",
          "height": 217
        },
        "id": "WZlga0ppSIK5",
        "outputId": "8d8cb441-21c2-4606-da05-aa66e6da8c40"
      },
      "execution_count": 29,
      "outputs": [
        {
          "output_type": "display_data",
          "data": {
            "text/plain": [
              "<Figure size 432x288 with 1 Axes>"
            ],
            "image/png": "[encoded data removed]"
          },
          "metadata": {
            "needs_background": "light"
          }
        }
      ]
    },
    {
      "cell_type": "code",
      "source": [
        "sentence_vectors = []\n",
        "\n",
        "offset = 0.001\n",
        "\n",
        "for sent in clean_sentences:\n",
        "  if len(sent) != 0:\n",
        "    v = sum([word_embeddings.get(w, np.zeros((100,))) for w in sent.split()])/(len(sent.split()) + offset )\n",
        "  else:\n",
        "    v = np.zeros((100,))\n",
        "  sentence_vectors.append(np.array(v))\n",
        "sentence_vectors=np.array(sentence_vectors)"
      ],
      "metadata": {
        "id": "b1vlbr7ZSLv5"
      },
      "execution_count": 30,
      "outputs": []
    },
    {
      "cell_type": "code",
      "source": [
        "def cos_similarity(mat):\n",
        "  norm = (mat.T * mat.T).sum(0, keepdims=True) ** .5\n",
        "  return (mat @ mat.T ) / norm.T / norm \n",
        "\n",
        "cos_mat = cos_similarity(sentence_vectors)"
      ],
      "metadata": {
        "id": "rU7xRuS5SO_B"
      },
      "execution_count": 31,
      "outputs": []
    },
    {
      "cell_type": "code",
      "source": [
        "from scipy import sparse\n",
        "\n",
        "cos_mat[cos_mat < 0.9]=0\n",
        "\n",
        "for i in range(len(sentences)):\n",
        "  cos_mat[i,i] = 0\n",
        "\n",
        "cos_mat[np.isnan(cos_mat)] =0\n",
        "\n",
        "sparse_mat = sparse.csr_matrix(cos_mat)\n",
        "\n",
        "sparse_mat.eliminate_zeros()"
      ],
      "metadata": {
        "id": "eMs6cc0vSTDf"
      },
      "execution_count": 32,
      "outputs": []
    },
    {
      "cell_type": "code",
      "source": [
        "!python ‐‐version"
      ],
      "metadata": {
        "colab": {
          "base_uri": "https://localhost:8080/"
        },
        "id": "-iC3ImZkSwv6",
        "outputId": "a508fc50-4f9e-4a1f-d77b-891261fd8a09"
      },
      "execution_count": 39,
      "outputs": [
        {
          "output_type": "stream",
          "name": "stdout",
          "text": [
            "python3: can't open file '‐‐version': [Errno 2] No such file or directory\n"
          ]
        }
      ]
    },
    {
      "cell_type": "code",
      "source": [
        "import networkx as nx \n",
        "SimilarityGraph = nx.from_scipy_sparse_matrix(sparse_mat)\n",
        "\n",
        "scores = nx.pagerank(SimilarityGraph)\n",
        "ranked_sentences = sorted(((scores[i],s) for i,s in enumerate(sentences)), reverse=True)\n",
        "\n",
        "summary = []\n",
        "for i in range(5):\n",
        "      summary.append(ranked_sentences[i][1][0])\n",
        "\n",
        "print(\" \".join(summary))"
      ],
      "metadata": {
        "id": "ze1knIX9SUhg"
      },
      "execution_count": 44,
      "outputs": []
    },
    {
      "cell_type": "code",
      "source": [],
      "metadata": {
        "colab": {
          "base_uri": "https://localhost:8080/"
        },
        "id": "S3MWmYKOUaTo",
        "outputId": "0607cf34-f88b-432c-de99-8abf61abb7aa"
      },
      "execution_count": 48,
      "outputs": [
        {
          "output_type": "stream",
          "name": "stdout",
          "text": [
            " He will be known Baron Kinnock of Bedwellty - after his former constituency Former Labour leader Neil Kinnock has officially been made a life peer during a ceremony in the House of Lords Baron Kinnock makes Lords debut After a brief career as a tutor for the Workers' Educational Association, he became an MP at the age of just 28 for his home seat of Bedwellty (later Islwyn) \" During his induction into the Upper House, Lord Kinnock was accompanied by Lords Leader Baroness Amos and Baroness Royall of Blaisdon, a former aide to the ex-Labour leader\n",
            "/var/folders/4_/23jd91ms6716tnh9dwmmcc2c0000gn/T/ipykernel_14351/3761564870.py:2: DeprecationWarning: \n",
            "\n",
            "The scipy.sparse array containers will be used instead of matrices\n",
            "in Networkx 3.0. Use `from_scipy_sparse_array` instead.\n",
            "  SimilarityGraph = nx.from_scipy_sparse_matrix(sparse_mat)\n"
          ]
        }
      ]
    },
    {
      "cell_type": "code",
      "source": [
        "summary_text = 'bbc news summary/BBC News Summary/Summaries/politics'\n",
        "summary_file_ = open(root+'/'+file_name, \"r\")\n",
        "summary_file_.read().replace('\\n', '.')\n",
        "\n",
        "generated_summary = \" \".join(summary)\n",
        "\n",
        "summary_arr = []\n",
        "generated_summary_arr = []\n",
        "\n",
        "for txt in summary_text:\n",
        "    summary_arr.append(Sentence(txt,Tokenizer('english')))\n",
        "    \n",
        "for txt in generated_summary: \n",
        "    generated_summary_arr.append(Sentence(txt, Tokenizer('english')))\n",
        "\n",
        "print(\"Rouge 1 scores textRank: \", rouge_1(generated_summary_arr, summary_arr))\n",
        "\n"
      ],
      "metadata": {
        "colab": {
          "base_uri": "https://localhost:8080/"
        },
        "id": "yPTjcYurTRPt",
        "outputId": "3e009a1d-a6af-4f3c-f0d0-19993226492e"
      },
      "execution_count": 43,
      "outputs": [
        {
          "output_type": "stream",
          "name": "stdout",
          "text": [
            "Rouge 1 scores textRank:  0.95\n"
          ]
        }
      ]
    }
  ]
}